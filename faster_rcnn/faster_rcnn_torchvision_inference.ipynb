{
 "cells": [
  {
   "cell_type": "markdown",
   "source": [
    "# Library import"
   ],
   "metadata": {}
  },
  {
   "cell_type": "code",
   "execution_count": 1,
   "source": [
    "from pycocotools.coco import COCO\n",
    "from pycocotools.cocoeval import COCOeval\n",
    "import numpy as np\n",
    "import cv2\n",
    "import os\n",
    "\n",
    "import albumentations as A\n",
    "from albumentations.pytorch import ToTensorV2\n",
    "\n",
    "import torch\n",
    "# faster rcnn model이 포함된 library\n",
    "import torchvision\n",
    "\n",
    "from torchvision.models.detection.faster_rcnn import FastRCNNPredictor\n",
    "\n",
    "from torch.utils.data import DataLoader, Dataset\n",
    "import pandas as pd\n",
    "from tqdm import tqdm"
   ],
   "outputs": [],
   "metadata": {}
  },
  {
   "cell_type": "markdown",
   "source": [
    "# Dataset 생성"
   ],
   "metadata": {}
  },
  {
   "cell_type": "code",
   "execution_count": 2,
   "source": [
    "class CustomDataset(Dataset):\n",
    "    '''\n",
    "      data_dir: data가 존재하는 폴더 경로\n",
    "      transforms: data transform (resize, crop, Totensor, etc,,,)\n",
    "    '''\n",
    "\n",
    "    def __init__(self, annotation, data_dir):\n",
    "        super().__init__()\n",
    "        self.data_dir = data_dir\n",
    "        # coco annotation 불러오기 (coco API)\n",
    "        self.coco = COCO(annotation)\n",
    "\n",
    "    def __getitem__(self, index: int):\n",
    "        \n",
    "        image_id = self.coco.getImgIds(imgIds=index)\n",
    "\n",
    "        image_info = self.coco.loadImgs(image_id)[0]\n",
    "        \n",
    "        image = cv2.imread(os.path.join(self.data_dir, image_info['file_name']))\n",
    "        image = cv2.cvtColor(image, cv2.COLOR_BGR2RGB).astype(np.float32)\n",
    "        image /= 255.0\n",
    "\n",
    "        ann_ids = self.coco.getAnnIds(imgIds=image_info['id'])\n",
    "        anns = self.coco.loadAnns(ann_ids)\n",
    "\n",
    "        image = torch.tensor(image, dtype=torch.float32).permute(2,0,1)\n",
    "\n",
    "        return image\n",
    "    \n",
    "    def __len__(self) -> int:\n",
    "        return len(self.coco.getImgIds())"
   ],
   "outputs": [],
   "metadata": {}
  },
  {
   "cell_type": "markdown",
   "source": [
    "# inference function"
   ],
   "metadata": {}
  },
  {
   "cell_type": "code",
   "execution_count": 3,
   "source": [
    "def inference_fn(test_data_loader, model, device):\n",
    "    outputs = []\n",
    "    for images in tqdm(test_data_loader):\n",
    "        # gpu 계산을 위해 image.to(device)\n",
    "        images = list(image.to(device) for image in images)\n",
    "        output = model(images)\n",
    "        for out in output:\n",
    "            outputs.append({'boxes': out['boxes'].tolist(), 'scores': out['scores'].tolist(), 'labels': out['labels'].tolist()})\n",
    "    return outputs"
   ],
   "outputs": [],
   "metadata": {}
  },
  {
   "cell_type": "markdown",
   "source": [
    "# Main"
   ],
   "metadata": {}
  },
  {
   "cell_type": "code",
   "execution_count": 4,
   "source": [
    "def main():\n",
    "    annotation = '../dataset/test.json' # annotation 경로\n",
    "    data_dir = '../dataset' # dataset 경로\n",
    "    test_dataset = CustomDataset(annotation, data_dir)\n",
    "    score_threshold = 0.05\n",
    "    check_point = '/opt/ml/detection/faster_rcnn/baseline_2/checkpoints/faster_rcnn_torchvision_checkpoints.pth' # 체크포인트 경로\n",
    "    \n",
    "\n",
    "    test_data_loader = DataLoader(\n",
    "        test_dataset,\n",
    "        batch_size=16,\n",
    "        shuffle=False,\n",
    "        num_workers=1\n",
    "    )\n",
    "    device = torch.device('cuda') if torch.cuda.is_available() else torch.device('cpu')\n",
    "    print(device)\n",
    "    \n",
    "    # torchvision model 불러오기\n",
    "    model = torchvision.models.detection.retinanet_resnet50_fpn(pretrained=True)\n",
    "    num_classes = 11  # 10 class + background\n",
    "    # get number of input features for the classifier\n",
    "    #in_features = model.roi_heads.box_predictor.cls_score.in_features\n",
    "    #model.roi_heads.box_predictor = FastRCNNPredictor(in_features, num_classes)\n",
    "    model.to(device)\n",
    "    model.load_state_dict(torch.load(check_point))\n",
    "    model.eval()\n",
    "    \n",
    "    outputs = inference_fn(test_data_loader, model, device)\n",
    "    prediction_strings = []\n",
    "    file_names = []\n",
    "    coco = COCO(annotation)\n",
    "\n",
    "    # submission 파일 생성\n",
    "    for i, output in enumerate(outputs):\n",
    "        prediction_string = ''\n",
    "        image_info = coco.loadImgs(coco.getImgIds(imgIds=i))[0]\n",
    "        for box, score, label in zip(output['boxes'], output['scores'], output['labels']):\n",
    "            if score > score_threshold: \n",
    "                # label[1~10] -> label[0~9]\n",
    "                prediction_string += str(label-1) + ' ' + str(score) + ' ' + str(box[0]) + ' ' + str(\n",
    "                    box[1]) + ' ' + str(box[2]) + ' ' + str(box[3]) + ' '\n",
    "        prediction_strings.append(prediction_string)\n",
    "        file_names.append(image_info['file_name'])\n",
    "    submission = pd.DataFrame()\n",
    "    submission['PredictionString'] = prediction_strings\n",
    "    submission['image_id'] = file_names\n",
    "    submission.to_csv('./faster_rcnn_torchvision_submission.csv', index=None)\n",
    "    print(submission.head())"
   ],
   "outputs": [],
   "metadata": {}
  },
  {
   "cell_type": "code",
   "execution_count": 5,
   "source": [
    "if __name__ == '__main__':\n",
    "    main()"
   ],
   "outputs": [
    {
     "output_type": "stream",
     "name": "stdout",
     "text": [
      "loading annotations into memory...\n",
      "Done (t=0.01s)\n",
      "creating index...\n",
      "index created!\n",
      "cuda\n"
     ]
    },
    {
     "output_type": "stream",
     "name": "stderr",
     "text": [
      "100%|██████████| 305/305 [03:05<00:00,  1.65it/s]\n"
     ]
    },
    {
     "output_type": "stream",
     "name": "stdout",
     "text": [
      "loading annotations into memory...\n",
      "Done (t=0.01s)\n",
      "creating index...\n",
      "index created!\n",
      "                                    PredictionString       image_id\n",
      "0  7 0.9447171092033386 598.3784790039062 518.981...  test/0000.jpg\n",
      "1  5 0.7007058262825012 341.3182067871094 251.185...  test/0001.jpg\n",
      "2  1 0.7364249229431152 316.09075927734375 302.30...  test/0002.jpg\n",
      "3  9 0.8025528788566589 171.35870361328125 270.47...  test/0003.jpg\n",
      "4  1 0.4502362310886383 193.5722198486328 267.779...  test/0004.jpg\n"
     ]
    }
   ],
   "metadata": {}
  },
  {
   "cell_type": "code",
   "execution_count": null,
   "source": [],
   "outputs": [],
   "metadata": {}
  }
 ],
 "metadata": {
  "kernelspec": {
   "display_name": "detection",
   "language": "python",
   "name": "detection"
  }
 },
 "nbformat": 4,
 "nbformat_minor": 4
}