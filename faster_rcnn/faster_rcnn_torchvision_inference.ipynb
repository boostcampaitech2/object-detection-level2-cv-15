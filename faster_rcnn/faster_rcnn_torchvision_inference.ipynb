{
 "cells": [
  {
   "cell_type": "markdown",
   "metadata": {},
   "source": [
    "# Library import"
   ]
  },
  {
   "cell_type": "code",
   "execution_count": 1,
   "metadata": {},
   "outputs": [],
   "source": [
    "from pycocotools.coco import COCO\n",
    "from pycocotools.cocoeval import COCOeval\n",
    "import numpy as np\n",
    "import cv2\n",
    "import os\n",
    "\n",
    "import albumentations as A\n",
    "from albumentations.pytorch import ToTensorV2\n",
    "\n",
    "import torch\n",
    "# faster rcnn model이 포함된 library\n",
    "import torchvision\n",
    "\n",
    "from torchvision.models.detection.faster_rcnn import FastRCNNPredictor\n",
    "\n",
    "from torch.utils.data import DataLoader, Dataset\n",
    "import pandas as pd\n",
    "from tqdm import tqdm"
   ]
  },
  {
   "cell_type": "markdown",
   "metadata": {},
   "source": [
    "# Dataset 생성"
   ]
  },
  {
   "cell_type": "code",
   "execution_count": 2,
   "metadata": {},
   "outputs": [],
   "source": [
    "class CustomDataset(Dataset):\n",
    "    '''\n",
    "      data_dir: data가 존재하는 폴더 경로\n",
    "      transforms: data transform (resize, crop, Totensor, etc,,,)\n",
    "    '''\n",
    "\n",
    "    def __init__(self, annotation, data_dir):\n",
    "        super().__init__()\n",
    "        self.data_dir = data_dir\n",
    "        # coco annotation 불러오기 (coco API)\n",
    "        self.coco = COCO(annotation)\n",
    "\n",
    "    def __getitem__(self, index: int):\n",
    "        \n",
    "        image_id = self.coco.getImgIds(imgIds=index)\n",
    "\n",
    "        image_info = self.coco.loadImgs(image_id)[0]\n",
    "        \n",
    "        image = cv2.imread(os.path.join(self.data_dir, image_info['file_name']))\n",
    "        image = cv2.cvtColor(image, cv2.COLOR_BGR2RGB).astype(np.float32)\n",
    "        image /= 255.0\n",
    "\n",
    "        ann_ids = self.coco.getAnnIds(imgIds=image_info['id'])\n",
    "        anns = self.coco.loadAnns(ann_ids)\n",
    "\n",
    "        image = torch.tensor(image, dtype=torch.float32).permute(2,0,1)\n",
    "\n",
    "        return image\n",
    "    \n",
    "    def __len__(self) -> int:\n",
    "        return len(self.coco.getImgIds())"
   ]
  },
  {
   "cell_type": "markdown",
   "metadata": {},
   "source": [
    "# inference function"
   ]
  },
  {
   "cell_type": "code",
   "execution_count": 3,
   "metadata": {},
   "outputs": [],
   "source": [
    "def inference_fn(test_data_loader, model, device):\n",
    "    outputs = []\n",
    "    for images in tqdm(test_data_loader):\n",
    "        # gpu 계산을 위해 image.to(device)\n",
    "        images = list(image.to(device) for image in images)\n",
    "        output = model(images)\n",
    "        for out in output:\n",
    "            outputs.append({'boxes': out['boxes'].tolist(), 'scores': out['scores'].tolist(), 'labels': out['labels'].tolist()})\n",
    "    return outputs"
   ]
  },
  {
   "cell_type": "markdown",
   "metadata": {},
   "source": [
    "# Main"
   ]
  },
  {
   "cell_type": "code",
   "execution_count": 4,
   "metadata": {},
   "outputs": [],
   "source": [
    "def main():\n",
    "    annotation = '../dataset/test.json' # annotation 경로\n",
    "    data_dir = '../dataset' # dataset 경로\n",
    "    test_dataset = CustomDataset(annotation, data_dir)\n",
    "    score_threshold = 0.3\n",
    "    fold = [0,1,2,3,4]\n",
    "    #check_point = f'/opt/ml/detection/faster_rcnn/baseline_2/checkpoints/fold{fold_ind}_retinanet_resnet50_fpn_4.pth' # 체크포인트 경로\n",
    "    \n",
    "    \n",
    "    test_data_loader = DataLoader(\n",
    "        test_dataset,\n",
    "        batch_size=8,\n",
    "        shuffle=False,\n",
    "        num_workers=4\n",
    "    )\n",
    "    for fold_ind in fold:\n",
    "        device = torch.device('cuda') if torch.cuda.is_available() else torch.device('cpu')\n",
    "        print(device)\n",
    "\n",
    "        # torchvision model 불러오기\n",
    "        model = torchvision.models.detection.retinanet_resnet50_fpn(pretrained=True)\n",
    "        num_classes = 11  # 10 class + background\n",
    "        # get number of input features for the classifier\n",
    "        # in_features = model.roi_heads.box_predictor.cls_score.in_features\n",
    "        # model.roi_heads.box_predictor = FastRCNNPredictor(in_features, num_classes)\n",
    "        model.to(device)\n",
    "        model.load_state_dict(torch.load(f'/opt/ml/detection/faster_rcnn/baseline_2/checkpoints/fold{fold_ind}_retinanet_resnet50_fpn_4.pth'))\n",
    "        model.eval()\n",
    "\n",
    "        outputs = inference_fn(test_data_loader, model, device)\n",
    "        prediction_strings = []\n",
    "        file_names = []\n",
    "        coco = COCO(annotation)\n",
    "\n",
    "        # submission 파일 생성\n",
    "        for i, output in enumerate(outputs):\n",
    "            prediction_string = ''\n",
    "            image_info = coco.loadImgs(coco.getImgIds(imgIds=i))[0]\n",
    "            for box, score, label in zip(output['boxes'], output['scores'], output['labels']):\n",
    "                if score > score_threshold: \n",
    "                    # label[1~10] -> label[0~9]\n",
    "                    prediction_string += str(label-1) + ' ' + str(score) + ' ' + str(box[0]) + ' ' + str(\n",
    "                        box[1]) + ' ' + str(box[2]) + ' ' + str(box[3]) + ' '\n",
    "            prediction_strings.append(prediction_string)\n",
    "            file_names.append(image_info['file_name'])\n",
    "        submission = pd.DataFrame()\n",
    "        submission['PredictionString'] = prediction_strings\n",
    "        submission['image_id'] = file_names\n",
    "        submission.to_csv(f'/opt/ml/detection/faster_rcnn/baseline_2/submission_test/fold{fold_ind}_retinanet_resnet50_fpn_test_4_0.3.csv', index=None)\n",
    "        print(submission.head())"
   ]
  },
  {
   "cell_type": "code",
   "execution_count": 5,
   "metadata": {},
   "outputs": [
    {
     "name": "stdout",
     "output_type": "stream",
     "text": [
      "loading annotations into memory...\n",
      "Done (t=0.01s)\n",
      "creating index...\n",
      "index created!\n",
      "cuda\n"
     ]
    },
    {
     "name": "stderr",
     "output_type": "stream",
     "text": [
      "100%|██████████| 609/609 [03:20<00:00,  3.04it/s]\n"
     ]
    },
    {
     "name": "stdout",
     "output_type": "stream",
     "text": [
      "loading annotations into memory...\n",
      "Done (t=0.01s)\n",
      "creating index...\n",
      "index created!\n",
      "                                    PredictionString       image_id\n",
      "0  7 0.9469152688980103 596.1566772460938 520.197...  test/0000.jpg\n",
      "1  3 0.6367285251617432 342.8404541015625 257.674...  test/0001.jpg\n",
      "2  1 0.7887363433837891 308.06097412109375 302.50...  test/0002.jpg\n",
      "3  9 0.7987083196640015 156.75015258789062 264.82...  test/0003.jpg\n",
      "4  0 0.5486242175102234 190.6232452392578 252.368...  test/0004.jpg\n",
      "cuda\n"
     ]
    },
    {
     "name": "stderr",
     "output_type": "stream",
     "text": [
      "100%|██████████| 609/609 [03:17<00:00,  3.09it/s]\n"
     ]
    },
    {
     "name": "stdout",
     "output_type": "stream",
     "text": [
      "loading annotations into memory...\n",
      "Done (t=0.01s)\n",
      "creating index...\n",
      "index created!\n",
      "                                    PredictionString       image_id\n",
      "0  7 0.9580594897270203 221.02891540527344 57.160...  test/0000.jpg\n",
      "1  5 0.7363812327384949 345.92254638671875 251.11...  test/0001.jpg\n",
      "2  1 0.8553988337516785 303.73748779296875 287.67...  test/0002.jpg\n",
      "3  9 0.8718125224113464 170.0378875732422 268.634...  test/0003.jpg\n",
      "4  1 0.5077464580535889 195.24609375 312.53820800...  test/0004.jpg\n",
      "cuda\n"
     ]
    },
    {
     "name": "stderr",
     "output_type": "stream",
     "text": [
      "100%|██████████| 609/609 [03:16<00:00,  3.10it/s]\n"
     ]
    },
    {
     "name": "stdout",
     "output_type": "stream",
     "text": [
      "loading annotations into memory...\n",
      "Done (t=0.01s)\n",
      "creating index...\n",
      "index created!\n",
      "                                    PredictionString       image_id\n",
      "0  7 0.9792993664741516 221.044921875 52.70486068...  test/0000.jpg\n",
      "1  5 0.7916504144668579 343.6021728515625 250.964...  test/0001.jpg\n",
      "2  1 0.8382615447044373 304.1420593261719 276.853...  test/0002.jpg\n",
      "3  9 0.8115426301956177 152.90928649902344 236.13...  test/0003.jpg\n",
      "4  0 0.5886224508285522 195.41343688964844 260.08...  test/0004.jpg\n",
      "cuda\n"
     ]
    },
    {
     "name": "stderr",
     "output_type": "stream",
     "text": [
      "100%|██████████| 609/609 [03:14<00:00,  3.13it/s]\n"
     ]
    },
    {
     "name": "stdout",
     "output_type": "stream",
     "text": [
      "loading annotations into memory...\n",
      "Done (t=0.01s)\n",
      "creating index...\n",
      "index created!\n",
      "                                    PredictionString       image_id\n",
      "0  7 0.9862715005874634 220.6200408935547 55.3414...  test/0000.jpg\n",
      "1  5 0.7912735342979431 340.4035339355469 250.758...  test/0001.jpg\n",
      "2  1 0.8836820125579834 306.0204162597656 266.623...  test/0002.jpg\n",
      "3  9 0.8820315599441528 159.86944580078125 249.01...  test/0003.jpg\n",
      "4  0 0.6713767647743225 194.69149780273438 258.19...  test/0004.jpg\n",
      "cuda\n"
     ]
    },
    {
     "name": "stderr",
     "output_type": "stream",
     "text": [
      "100%|██████████| 609/609 [03:14<00:00,  3.13it/s]\n"
     ]
    },
    {
     "name": "stdout",
     "output_type": "stream",
     "text": [
      "loading annotations into memory...\n",
      "Done (t=0.01s)\n",
      "creating index...\n",
      "index created!\n",
      "                                    PredictionString       image_id\n",
      "0  7 0.9816142320632935 223.25071716308594 56.211...  test/0000.jpg\n",
      "1  5 0.8838589191436768 340.8896789550781 248.781...  test/0001.jpg\n",
      "2  1 0.896791934967041 302.9183044433594 273.0691...  test/0002.jpg\n",
      "3  9 0.9141399264335632 154.6496124267578 230.399...  test/0003.jpg\n",
      "4  1 0.5481130480766296 193.02554321289062 294.67...  test/0004.jpg\n"
     ]
    }
   ],
   "source": [
    "if __name__ == '__main__':\n",
    "    main()"
   ]
  }
 ],
 "metadata": {
  "interpreter": {
   "hash": "b94c6de4bce9a87a354a5fa9998691adc0532adddb9d4140f5ba941d00b01fae"
  },
  "kernelspec": {
   "display_name": "Python 3.7.11 64-bit ('detection': conda)",
   "name": "python3"
  },
  "language_info": {
   "codemirror_mode": {
    "name": "ipython",
    "version": 3
   },
   "file_extension": ".py",
   "mimetype": "text/x-python",
   "name": "python",
   "nbconvert_exporter": "python",
   "pygments_lexer": "ipython3",
   "version": "3.7.11"
  }
 },
 "nbformat": 4,
 "nbformat_minor": 4
}
