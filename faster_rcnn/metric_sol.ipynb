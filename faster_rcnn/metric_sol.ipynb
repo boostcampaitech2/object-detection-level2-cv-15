{
  "cells": [
    {
      "cell_type": "code",
      "execution_count": 1,
      "metadata": {
        "id": "8425d721"
      },
      "outputs": [
        {
          "name": "stdout",
          "output_type": "stream",
          "text": [
            "Requirement already satisfied: map_boxes in /opt/conda/envs/detection/lib/python3.7/site-packages (1.0.5)\n",
            "Requirement already satisfied: numpy in /opt/conda/envs/detection/lib/python3.7/site-packages (from map_boxes) (1.20.3)\n",
            "Requirement already satisfied: pandas in /opt/conda/envs/detection/lib/python3.7/site-packages (from map_boxes) (1.3.3)\n",
            "Requirement already satisfied: pytz>=2017.3 in /opt/conda/envs/detection/lib/python3.7/site-packages (from pandas->map_boxes) (2021.1)\n",
            "Requirement already satisfied: python-dateutil>=2.7.3 in /opt/conda/envs/detection/lib/python3.7/site-packages (from pandas->map_boxes) (2.8.2)\n",
            "Requirement already satisfied: six>=1.5 in /opt/conda/envs/detection/lib/python3.7/site-packages (from python-dateutil>=2.7.3->pandas->map_boxes) (1.16.0)\n",
            "Requirement already satisfied: tqdm in /opt/conda/envs/detection/lib/python3.7/site-packages (4.62.3)\n",
            "Requirement already satisfied: pycocotools in /opt/conda/envs/detection/lib/python3.7/site-packages (2.0.2)\n",
            "Requirement already satisfied: cython>=0.27.3 in /opt/conda/envs/detection/lib/python3.7/site-packages (from pycocotools) (0.29.24)\n",
            "Requirement already satisfied: matplotlib>=2.1.0 in /opt/conda/envs/detection/lib/python3.7/site-packages (from pycocotools) (3.4.3)\n",
            "Requirement already satisfied: setuptools>=18.0 in /opt/conda/envs/detection/lib/python3.7/site-packages (from pycocotools) (58.0.4)\n",
            "Requirement already satisfied: cycler>=0.10 in /opt/conda/envs/detection/lib/python3.7/site-packages (from matplotlib>=2.1.0->pycocotools) (0.10.0)\n",
            "Requirement already satisfied: pyparsing>=2.2.1 in /opt/conda/envs/detection/lib/python3.7/site-packages (from matplotlib>=2.1.0->pycocotools) (2.4.7)\n",
            "Requirement already satisfied: numpy>=1.16 in /opt/conda/envs/detection/lib/python3.7/site-packages (from matplotlib>=2.1.0->pycocotools) (1.20.3)\n",
            "Requirement already satisfied: kiwisolver>=1.0.1 in /opt/conda/envs/detection/lib/python3.7/site-packages (from matplotlib>=2.1.0->pycocotools) (1.3.2)\n",
            "Requirement already satisfied: python-dateutil>=2.7 in /opt/conda/envs/detection/lib/python3.7/site-packages (from matplotlib>=2.1.0->pycocotools) (2.8.2)\n",
            "Requirement already satisfied: pillow>=6.2.0 in /opt/conda/envs/detection/lib/python3.7/site-packages (from matplotlib>=2.1.0->pycocotools) (8.3.1)\n",
            "Requirement already satisfied: six in /opt/conda/envs/detection/lib/python3.7/site-packages (from cycler>=0.10->matplotlib>=2.1.0->pycocotools) (1.16.0)\n"
          ]
        }
      ],
      "source": [
        "!pip install map_boxes\n",
        "!pip install tqdm\n",
        "!pip install pycocotools"
      ]
    },
    {
      "cell_type": "code",
      "execution_count": 2,
      "metadata": {
        "id": "b64e3bb0"
      },
      "outputs": [],
      "source": [
        "from map_boxes import mean_average_precision_for_boxes\n",
        "import pandas as pd\n",
        "import numpy as np\n",
        "import json\n",
        "from tqdm import tqdm\n",
        "from pycocotools.coco import COCO"
      ]
    },
    {
      "cell_type": "code",
      "execution_count": 3,
      "metadata": {
        "id": "83d36147"
      },
      "outputs": [],
      "source": [
        "GT_JSON = '/opt/ml/detection/dataset/train.json'\n",
        "PRED_CSV = '/opt/ml/detection/faster_rcnn/submission_ensemble_pseudoLabeling_3_0.6.csv'\n",
        "\n",
        "\n",
        "    \n",
        "# load ground truth\n",
        "with open(GT_JSON, 'r') as outfile:\n",
        "    test_anno = (json.load(outfile))\n",
        "\n",
        "# load prediction\n",
        "pred_df = pd.read_csv(PRED_CSV)\n",
        "\n",
        "   "
      ]
    },
    {
      "cell_type": "code",
      "execution_count": 4,
      "metadata": {
        "id": "9afc18a0"
      },
      "outputs": [
        {
          "name": "stdout",
          "output_type": "stream",
          "text": [
            "train/0001.jpg\n",
            "0 0.8984344601631165 619.6401977539062 692.5023803710938 689.9927368164062 790.3583374023438 0 0.7132421135902405 422.4284362792969 686.8781127929688 635.5785522460938 855.9871826171875 0 0.6278756856918335 383.41436767578125 678.5245971679688 605.3501586914062 800.9808349609375 4 0.9740090370178223 727.2628784179688 314.5044860839844 992.1361694335938 567.509765625 5 0.8138903975486755 63.92866897583008 447.2177734375 786.5399780273438 683.38818359375 5 0.7113310098648071 363.8210144042969 670.5466918945312 587.4439697265625 773.8440551757812 7 0.8088732957839966 94.51702117919922 600.0848999023438 230.53250122070312 653.2649536132812 9 0.7919033765792847 20.735858917236328 451.10687255859375 780.5601196289062 698.2651977539062 \n"
          ]
        }
      ],
      "source": [
        "'''\n",
        "[\n",
        "    [file_name 1, confidence_score, x_min, x_max, y_min, y_max], \n",
        "    [file_name 2 confidence_score, x_min, x_max, y_min, y_max],\n",
        "    ,,,\n",
        "    [file_name , confidence_score, x_min, x_max, y_min, y_max]\n",
        "]\n",
        "'''\n",
        "    \n",
        "new_pred = []\n",
        "\n",
        "file_names = pred_df['image_id'].values.tolist()\n",
        "bboxes = pred_df['PredictionString'].values.tolist()\n",
        "\n",
        "print(file_names[1])\n",
        "print(bboxes[1])\n"
      ]
    },
    {
      "cell_type": "code",
      "execution_count": 5,
      "metadata": {},
      "outputs": [
        {
          "name": "stdout",
          "output_type": "stream",
          "text": [
            "train/4432.jpg empty box\n"
          ]
        },
        {
          "name": "stderr",
          "output_type": "stream",
          "text": [
            "4883it [00:00, 33380.52it/s]\n"
          ]
        }
      ],
      "source": [
        "\n",
        "\n",
        "'''\n",
        "create new_pred\n",
        "'''\n",
        "    \n",
        "for i, bbox in enumerate(bboxes):\n",
        "    if isinstance(bbox, float):\n",
        "        print(f'{file_names[i]} empty box')\n",
        "\n",
        "for file_name, bbox in tqdm(zip(file_names, bboxes)):\n",
        "    boxes = np.array(str(bbox).split(' '))\n",
        "    \n",
        "    if len(boxes) % 6 == 1:\n",
        "        boxes = boxes[:-1].reshape(-1, 6)\n",
        "    elif len(boxes) % 6 == 0:\n",
        "        boxes = boxes.reshape(-1, 6)\n",
        "    else:\n",
        "        raise Exception('error', 'invalid box count')\n",
        "    for box in boxes:\n",
        "        new_pred.append([file_name, box[0], box[1], float(box[2]), float(box[4]), float(box[3]), float(box[5])])"
      ]
    },
    {
      "cell_type": "code",
      "execution_count": 6,
      "metadata": {
        "id": "1804b52e"
      },
      "outputs": [
        {
          "name": "stdout",
          "output_type": "stream",
          "text": [
            "loading annotations into memory...\n",
            "Done (t=0.08s)\n",
            "creating index...\n",
            "index created!\n"
          ]
        }
      ],
      "source": [
        "'''\n",
        "[\n",
        "    [file_name 1, confidence_score, x_min, x_max, y_min, y_max], \n",
        "    [file_name 2, confidence_score, x_min, x_max, y_min, y_max],\n",
        "    ,,,\n",
        "    [file_name , confidence_score, x_min, x_max, y_min, y_max]\n",
        "]\n",
        "'''\n",
        "    \n",
        "gt = []\n",
        "\n",
        "'''\n",
        "create gt\n",
        "'''\n",
        "    \n",
        "coco = COCO(GT_JSON)\n",
        "   \n",
        "'''\n",
        "coco.getImgIds(): return image id list\n",
        "    \n",
        "coco.loadImgs(image_id): return image_info\n",
        "    \n",
        "image_info['file_name']: return file name\n",
        "   \n",
        "coco.getAnnIds(imgIds=image_info['id']): return annotation id\n",
        "    \n",
        "coco.loadAnns(ann_ids): return annotation information list (annotation_info_list)\n",
        "    \n",
        "annotation_info_list[i]['bbox']: return i'th annotation [x_min, y_min, w, h]\n",
        "    \n",
        "annotation_info_list[i]['category_id']: return i'th annotation category\n",
        "    \n",
        "'''\n",
        "    \n",
        "for image_id in coco.getImgIds():\n",
        "        \n",
        "    image_info = coco.loadImgs(image_id)[0]\n",
        "    annotation_id = coco.getAnnIds(imgIds=image_info['id'])\n",
        "    annotation_info_list = coco.loadAnns(annotation_id)\n",
        "        \n",
        "    file_name = image_info['file_name']\n",
        "        \n",
        "    for annotation in annotation_info_list:\n",
        "        gt.append([file_name, annotation['category_id'],\n",
        "                   float(annotation['bbox'][0]),\n",
        "                   float(annotation['bbox'][0]) + float(annotation['bbox'][2]),\n",
        "                   float(annotation['bbox'][1]),\n",
        "                   (float(annotation['bbox'][1]) + float(annotation['bbox'][3]))])"
      ]
    },
    {
      "cell_type": "code",
      "execution_count": null,
      "metadata": {},
      "outputs": [],
      "source": []
    },
    {
      "cell_type": "code",
      "execution_count": 7,
      "metadata": {
        "id": "83194763"
      },
      "outputs": [
        {
          "name": "stdout",
          "output_type": "stream",
          "text": [
            "Number of files in annotations: 4883\n",
            "Number of files in predictions: 4882\n",
            "Unique classes: 10\n",
            "Detections length: 4882\n",
            "Annotations length: 4883\n",
            "0                              | 0.649690 |    3966\n",
            "1                              | 0.650620 |    6352\n",
            "2                              | 0.766833 |     897\n",
            "3                              | 0.747924 |     936\n",
            "4                              | 0.807634 |     982\n",
            "5                              | 0.668932 |    2943\n",
            "6                              | 0.685864 |    1263\n",
            "7                              | 0.814463 |    5178\n",
            "8                              | 0.923432 |     159\n",
            "9                              | 0.832812 |     468\n",
            "mAP: 0.754820\n",
            "0.7548203867789997\n"
          ]
        }
      ],
      "source": [
        "'''\n",
        "calculate mAP\n",
        "'''\n",
        "\n",
        "\n",
        "mean_ap, average_precisions = mean_average_precision_for_boxes(gt, new_pred, iou_threshold=0.5)\n",
        "\n",
        "print(mean_ap)"
      ]
    },
    {
      "cell_type": "code",
      "execution_count": null,
      "metadata": {
        "id": "134daa5c"
      },
      "outputs": [],
      "source": []
    }
  ],
  "metadata": {
    "colab": {
      "collapsed_sections": [],
      "name": "metric_sol.ipynb",
      "provenance": []
    },
    "interpreter": {
      "hash": "b94c6de4bce9a87a354a5fa9998691adc0532adddb9d4140f5ba941d00b01fae"
    },
    "kernelspec": {
      "display_name": "Python 3.7.11 64-bit ('detection': conda)",
      "name": "python3"
    },
    "language_info": {
      "codemirror_mode": {
        "name": "ipython",
        "version": 3
      },
      "file_extension": ".py",
      "mimetype": "text/x-python",
      "name": "python",
      "nbconvert_exporter": "python",
      "pygments_lexer": "ipython3",
      "version": "3.7.11"
    }
  },
  "nbformat": 4,
  "nbformat_minor": 5
}
