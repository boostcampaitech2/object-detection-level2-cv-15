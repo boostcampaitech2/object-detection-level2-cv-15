{
  "cells": [
    {
      "cell_type": "code",
      "execution_count": 2,
      "metadata": {
        "id": "8425d721"
      },
      "outputs": [
        {
          "name": "stdout",
          "output_type": "stream",
          "text": [
            "Requirement already satisfied: map_boxes in /opt/conda/envs/detection/lib/python3.7/site-packages (1.0.5)\n",
            "Requirement already satisfied: pandas in /opt/conda/envs/detection/lib/python3.7/site-packages (from map_boxes) (1.3.3)\n",
            "Requirement already satisfied: numpy in /opt/conda/envs/detection/lib/python3.7/site-packages (from map_boxes) (1.20.3)\n",
            "Requirement already satisfied: python-dateutil>=2.7.3 in /opt/conda/envs/detection/lib/python3.7/site-packages (from pandas->map_boxes) (2.8.2)\n",
            "Requirement already satisfied: pytz>=2017.3 in /opt/conda/envs/detection/lib/python3.7/site-packages (from pandas->map_boxes) (2021.1)\n",
            "Requirement already satisfied: six>=1.5 in /opt/conda/envs/detection/lib/python3.7/site-packages (from python-dateutil>=2.7.3->pandas->map_boxes) (1.16.0)\n",
            "Requirement already satisfied: tqdm in /opt/conda/envs/detection/lib/python3.7/site-packages (4.62.3)\n",
            "Requirement already satisfied: pycocotools in /opt/conda/envs/detection/lib/python3.7/site-packages (2.0.2)\n",
            "Requirement already satisfied: setuptools>=18.0 in /opt/conda/envs/detection/lib/python3.7/site-packages (from pycocotools) (58.0.4)\n",
            "Requirement already satisfied: cython>=0.27.3 in /opt/conda/envs/detection/lib/python3.7/site-packages (from pycocotools) (0.29.24)\n",
            "Requirement already satisfied: matplotlib>=2.1.0 in /opt/conda/envs/detection/lib/python3.7/site-packages (from pycocotools) (3.4.3)\n",
            "Requirement already satisfied: numpy>=1.16 in /opt/conda/envs/detection/lib/python3.7/site-packages (from matplotlib>=2.1.0->pycocotools) (1.20.3)\n",
            "Requirement already satisfied: pillow>=6.2.0 in /opt/conda/envs/detection/lib/python3.7/site-packages (from matplotlib>=2.1.0->pycocotools) (8.3.1)\n",
            "Requirement already satisfied: pyparsing>=2.2.1 in /opt/conda/envs/detection/lib/python3.7/site-packages (from matplotlib>=2.1.0->pycocotools) (2.4.7)\n",
            "Requirement already satisfied: python-dateutil>=2.7 in /opt/conda/envs/detection/lib/python3.7/site-packages (from matplotlib>=2.1.0->pycocotools) (2.8.2)\n",
            "Requirement already satisfied: kiwisolver>=1.0.1 in /opt/conda/envs/detection/lib/python3.7/site-packages (from matplotlib>=2.1.0->pycocotools) (1.3.2)\n",
            "Requirement already satisfied: cycler>=0.10 in /opt/conda/envs/detection/lib/python3.7/site-packages (from matplotlib>=2.1.0->pycocotools) (0.10.0)\n",
            "Requirement already satisfied: six in /opt/conda/envs/detection/lib/python3.7/site-packages (from cycler>=0.10->matplotlib>=2.1.0->pycocotools) (1.16.0)\n"
          ]
        }
      ],
      "source": [
        "!pip install map_boxes\n",
        "!pip install tqdm\n",
        "!pip install pycocotools"
      ]
    },
    {
      "cell_type": "code",
      "execution_count": 1,
      "metadata": {
        "id": "b64e3bb0"
      },
      "outputs": [],
      "source": [
        "from map_boxes import mean_average_precision_for_boxes\n",
        "import pandas as pd\n",
        "import numpy as np\n",
        "import json\n",
        "from tqdm import tqdm\n",
        "from pycocotools.coco import COCO"
      ]
    },
    {
      "cell_type": "code",
      "execution_count": 4,
      "metadata": {
        "id": "83d36147"
      },
      "outputs": [],
      "source": [
        "GT_JSON = '/opt/ml/detection/dataset/train.json'\n",
        "PRED_CSV = '/opt/ml/detection/faster_rcnn/faster_rcnn_torchvision_submission_2_test.csv'\n",
        "\n",
        "\n",
        "    \n",
        "# load ground truth\n",
        "with open(GT_JSON, 'r') as outfile:\n",
        "    test_anno = (json.load(outfile))\n",
        "\n",
        "# load prediction\n",
        "pred_df = pd.read_csv(PRED_CSV)\n",
        "\n",
        "   "
      ]
    },
    {
      "cell_type": "code",
      "execution_count": 10,
      "metadata": {
        "id": "9afc18a0"
      },
      "outputs": [
        {
          "name": "stdout",
          "output_type": "stream",
          "text": [
            "test/0001.jpg\n",
            "5 0.7475475072860718 342.19403076171875 240.119140625 769.5818481445312 708.6382446289062 7 0.46878644824028015 131.18421936035156 0.0 520.7600708007812 277.547607421875 3 0.40461161732673645 349.04498291015625 248.0780029296875 743.3067016601562 687.6563720703125 5 0.2912512719631195 134.82919311523438 4.000722408294678 502.64599609375 277.8896179199219 6 0.23765414953231812 754.1754760742188 663.9010009765625 888.736083984375 979.23193359375 0 0.16301988065242767 147.5968780517578 8.95401382446289 525.5265502929688 276.4270935058594 0 0.16107308864593506 756.2115478515625 668.2628173828125 889.0374755859375 993.9481201171875 2 0.09182024002075195 731.4864501953125 671.7282104492188 885.697265625 997.9462890625 2 0.07156708091497421 357.4524230957031 273.7116394042969 739.6365966796875 695.0551147460938 1 0.06478525698184967 757.06396484375 673.8621215820312 888.0866088867188 986.9344482421875 4 0.056180451065301895 323.448486328125 249.0672607421875 762.2232055664062 695.4246215820312 \n"
          ]
        }
      ],
      "source": [
        "'''\n",
        "[\n",
        "    [file_name 1, confidence_score, x_min, x_max, y_min, y_max], \n",
        "    [file_name 2 confidence_score, x_min, x_max, y_min, y_max],\n",
        "    ,,,\n",
        "    [file_name , confidence_score, x_min, x_max, y_min, y_max]\n",
        "]\n",
        "'''\n",
        "    \n",
        "new_pred = []\n",
        "\n",
        "file_names = pred_df['image_id'].values.tolist()\n",
        "bboxes = pred_df['PredictionString'].values.tolist()\n",
        "\n",
        "print(file_names[1])\n",
        "print(bboxes[1])\n"
      ]
    },
    {
      "cell_type": "code",
      "execution_count": null,
      "metadata": {},
      "outputs": [],
      "source": [
        "\n",
        "\n",
        "'''\n",
        "create new_pred\n",
        "'''\n",
        "    \n",
        "for i, bbox in enumerate(bboxes):\n",
        "    if isinstance(bbox, float):\n",
        "        print(f'{file_names[i]} empty box')\n",
        "\n",
        "for file_name, bbox in tqdm(zip(file_names, bboxes)):\n",
        "    boxes = np.array(str(bbox).split(' '))\n",
        "    \n",
        "    if len(boxes) % 6 == 1:\n",
        "        boxes = boxes[:-1].reshape(-1, 6)\n",
        "    elif len(boxes) % 6 == 0:\n",
        "        boxes = boxes.reshape(-1, 6)\n",
        "    else:\n",
        "        raise Exception('error', 'invalid box count')\n",
        "    for box in boxes:\n",
        "        new_pred.append([file_name, box[0], box[1], float(box[2]), float(box[4]), float(box[3]), float(box[5])])"
      ]
    },
    {
      "cell_type": "code",
      "execution_count": 11,
      "metadata": {
        "id": "1804b52e"
      },
      "outputs": [
        {
          "name": "stdout",
          "output_type": "stream",
          "text": [
            "loading annotations into memory...\n",
            "Done (t=0.18s)\n",
            "creating index...\n",
            "index created!\n"
          ]
        }
      ],
      "source": [
        "'''\n",
        "[\n",
        "    [file_name 1, confidence_score, x_min, x_max, y_min, y_max], \n",
        "    [file_name 2, confidence_score, x_min, x_max, y_min, y_max],\n",
        "    ,,,\n",
        "    [file_name , confidence_score, x_min, x_max, y_min, y_max]\n",
        "]\n",
        "'''\n",
        "    \n",
        "gt = []\n",
        "\n",
        "'''\n",
        "create gt\n",
        "'''\n",
        "    \n",
        "coco = COCO(GT_JSON)\n",
        "   \n",
        "'''\n",
        "coco.getImgIds(): return image id list\n",
        "    \n",
        "coco.loadImgs(image_id): return image_info\n",
        "    \n",
        "image_info['file_name']: return file name\n",
        "   \n",
        "coco.getAnnIds(imgIds=image_info['id']): return annotation id\n",
        "    \n",
        "coco.loadAnns(ann_ids): return annotation information list (annotation_info_list)\n",
        "    \n",
        "annotation_info_list[i]['bbox']: return i'th annotation [x_min, y_min, w, h]\n",
        "    \n",
        "annotation_info_list[i]['category_id']: return i'th annotation category\n",
        "    \n",
        "'''\n",
        "    \n",
        "for image_id in coco.getImgIds():\n",
        "        \n",
        "    image_info = coco.loadImgs(image_id)[0]\n",
        "    annotation_id = coco.getAnnIds(imgIds=image_info['id'])\n",
        "    annotation_info_list = coco.loadAnns(annotation_id)\n",
        "        \n",
        "    file_name = image_info['file_name']\n",
        "        \n",
        "    for annotation in annotation_info_list:\n",
        "        gt.append([file_name, annotation['category_id'],\n",
        "                   float(annotation['bbox'][0]),\n",
        "                   float(annotation['bbox'][0]) + float(annotation['bbox'][2]),\n",
        "                   float(annotation['bbox'][1]),\n",
        "                   (float(annotation['bbox'][1]) + float(annotation['bbox'][3]))])"
      ]
    },
    {
      "cell_type": "code",
      "execution_count": null,
      "metadata": {},
      "outputs": [],
      "source": []
    },
    {
      "cell_type": "code",
      "execution_count": 12,
      "metadata": {
        "id": "83194763"
      },
      "outputs": [
        {
          "name": "stdout",
          "output_type": "stream",
          "text": [
            "Number of files in annotations: 4883\n",
            "Number of files in predictions: 4883\n",
            "Unique classes: 10\n",
            "Detections length: 4883\n",
            "Annotations length: 4883\n",
            "0                              | 0.243367 |    3966\n",
            "1                              | 0.413410 |    6352\n",
            "2                              | 0.411380 |     897\n",
            "3                              | 0.387853 |     936\n",
            "4                              | 0.449659 |     982\n",
            "5                              | 0.331874 |    2943\n",
            "6                              | 0.467450 |    1263\n",
            "7                              | 0.617918 |    5178\n",
            "8                              | 0.547541 |     159\n",
            "9                              | 0.594067 |     468\n",
            "mAP: 0.446452\n",
            "0.4464518988660888\n"
          ]
        }
      ],
      "source": [
        "'''\n",
        "calculate mAP\n",
        "'''\n",
        "\n",
        "\n",
        "mean_ap, average_precisions = mean_average_precision_for_boxes(gt, new_pred, iou_threshold=0.5)\n",
        "\n",
        "print(mean_ap)"
      ]
    },
    {
      "cell_type": "code",
      "execution_count": null,
      "metadata": {
        "id": "134daa5c"
      },
      "outputs": [],
      "source": []
    }
  ],
  "metadata": {
    "colab": {
      "collapsed_sections": [],
      "name": "metric_sol.ipynb",
      "provenance": []
    },
    "interpreter": {
      "hash": "b94c6de4bce9a87a354a5fa9998691adc0532adddb9d4140f5ba941d00b01fae"
    },
    "kernelspec": {
      "display_name": "Python 3.7.11 64-bit ('detection': conda)",
      "name": "python3"
    },
    "language_info": {
      "codemirror_mode": {
        "name": "ipython",
        "version": 3
      },
      "file_extension": ".py",
      "mimetype": "text/x-python",
      "name": "python",
      "nbconvert_exporter": "python",
      "pygments_lexer": "ipython3",
      "version": "3.7.11"
    }
  },
  "nbformat": 4,
  "nbformat_minor": 5
}
