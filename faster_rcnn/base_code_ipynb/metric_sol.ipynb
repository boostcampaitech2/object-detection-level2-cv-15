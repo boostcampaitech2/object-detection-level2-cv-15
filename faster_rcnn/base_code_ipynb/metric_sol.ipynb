{
  "nbformat": 4,
  "nbformat_minor": 5,
  "metadata": {
    "kernelspec": {
      "display_name": "detection",
      "language": "python",
      "name": "detection"
    },
    "colab": {
      "name": "metric_sol.ipynb",
      "provenance": [],
      "collapsed_sections": []
    },
    "language_info": {
      "name": "python",
      "version": "3.7.11",
      "mimetype": "text/x-python",
      "codemirror_mode": {
        "name": "ipython",
        "version": 3
      },
      "pygments_lexer": "ipython3",
      "nbconvert_exporter": "python",
      "file_extension": ".py"
    }
  },
  "cells": [
    {
      "cell_type": "code",
      "execution_count": 1,
      "source": [
        "!pip install map_boxes\n",
        "!pip install tqdm\n",
        "!pip install pycocotools"
      ],
      "outputs": [
        {
          "output_type": "stream",
          "name": "stdout",
          "text": [
            "Requirement already satisfied: map_boxes in /opt/conda/envs/detection/lib/python3.7/site-packages (1.0.5)\n",
            "Requirement already satisfied: pandas in /opt/conda/envs/detection/lib/python3.7/site-packages (from map_boxes) (1.3.3)\n",
            "Requirement already satisfied: numpy in /opt/conda/envs/detection/lib/python3.7/site-packages (from map_boxes) (1.20.3)\n",
            "Requirement already satisfied: python-dateutil>=2.7.3 in /opt/conda/envs/detection/lib/python3.7/site-packages (from pandas->map_boxes) (2.8.2)\n",
            "Requirement already satisfied: pytz>=2017.3 in /opt/conda/envs/detection/lib/python3.7/site-packages (from pandas->map_boxes) (2021.1)\n",
            "Requirement already satisfied: six>=1.5 in /opt/conda/envs/detection/lib/python3.7/site-packages (from python-dateutil>=2.7.3->pandas->map_boxes) (1.16.0)\n",
            "Requirement already satisfied: tqdm in /opt/conda/envs/detection/lib/python3.7/site-packages (4.62.3)\n",
            "Requirement already satisfied: pycocotools in /opt/conda/envs/detection/lib/python3.7/site-packages (2.0.2)\n",
            "Requirement already satisfied: cython>=0.27.3 in /opt/conda/envs/detection/lib/python3.7/site-packages (from pycocotools) (0.29.24)\n",
            "Requirement already satisfied: setuptools>=18.0 in /opt/conda/envs/detection/lib/python3.7/site-packages (from pycocotools) (58.0.4)\n",
            "Requirement already satisfied: matplotlib>=2.1.0 in /opt/conda/envs/detection/lib/python3.7/site-packages (from pycocotools) (3.4.3)\n",
            "Requirement already satisfied: pyparsing>=2.2.1 in /opt/conda/envs/detection/lib/python3.7/site-packages (from matplotlib>=2.1.0->pycocotools) (2.4.7)\n",
            "Requirement already satisfied: python-dateutil>=2.7 in /opt/conda/envs/detection/lib/python3.7/site-packages (from matplotlib>=2.1.0->pycocotools) (2.8.2)\n",
            "Requirement already satisfied: cycler>=0.10 in /opt/conda/envs/detection/lib/python3.7/site-packages (from matplotlib>=2.1.0->pycocotools) (0.10.0)\n",
            "Requirement already satisfied: pillow>=6.2.0 in /opt/conda/envs/detection/lib/python3.7/site-packages (from matplotlib>=2.1.0->pycocotools) (8.3.1)\n",
            "Requirement already satisfied: kiwisolver>=1.0.1 in /opt/conda/envs/detection/lib/python3.7/site-packages (from matplotlib>=2.1.0->pycocotools) (1.3.2)\n",
            "Requirement already satisfied: numpy>=1.16 in /opt/conda/envs/detection/lib/python3.7/site-packages (from matplotlib>=2.1.0->pycocotools) (1.20.3)\n",
            "Requirement already satisfied: six in /opt/conda/envs/detection/lib/python3.7/site-packages (from cycler>=0.10->matplotlib>=2.1.0->pycocotools) (1.16.0)\n"
          ]
        }
      ],
      "metadata": {
        "id": "8425d721"
      }
    },
    {
      "cell_type": "code",
      "execution_count": 2,
      "source": [
        "from map_boxes import mean_average_precision_for_boxes\n",
        "import pandas as pd\n",
        "import numpy as np\n",
        "import json\n",
        "from tqdm import tqdm\n",
        "from pycocotools.coco import COCO"
      ],
      "outputs": [],
      "metadata": {
        "id": "b64e3bb0"
      }
    },
    {
      "cell_type": "code",
      "execution_count": 3,
      "source": [
        "GT_JSON = '/opt/ml/detection/dataset/train.json'\n",
        "PRED_CSV = '/opt/ml/detection/faster_rcnn/faster_rcnn_scratch_submission.csv'\n",
        "\n",
        "\n",
        "    \n",
        "# load ground truth\n",
        "with open(GT_JSON, 'r') as outfile:\n",
        "    test_anno = (json.load(outfile))\n",
        "\n",
        "# load prediction\n",
        "pred_df = pd.read_csv(PRED_CSV)\n",
        "\n",
        "   "
      ],
      "outputs": [],
      "metadata": {
        "id": "83d36147"
      }
    },
    {
      "cell_type": "code",
      "execution_count": 4,
      "source": [
        "'''\n",
        "[\n",
        "    [file_name 1, confidence_score, x_min, x_max, y_min, y_max], \n",
        "    [file_name 2 confidence_score, x_min, x_max, y_min, y_max],\n",
        "    ,,,\n",
        "    [file_name , confidence_score, x_min, x_max, y_min, y_max]\n",
        "]\n",
        "'''\n",
        "    \n",
        "new_pred = []\n",
        "\n",
        "file_names = pred_df['image_id'].values.tolist()\n",
        "bboxes = pred_df['PredictionString'].values.tolist()\n",
        "    \n",
        "'''\n",
        "create new_pred\n",
        "'''\n",
        "    \n",
        "for i, bbox in enumerate(bboxes):\n",
        "    if isinstance(bbox, float):\n",
        "        print(f'{file_names[i]} empty box')\n",
        "\n",
        "for file_name, bbox in tqdm(zip(file_names, bboxes)):\n",
        "    boxes = np.array(str(bbox).split(' '))\n",
        "    \n",
        "    if len(boxes) % 6 == 1:\n",
        "        boxes = boxes[:-1].reshape(-1, 6)\n",
        "    elif len(boxes) % 6 == 0:\n",
        "        boxes = boxes.reshape(-1, 6)\n",
        "    else:\n",
        "        raise Exception('error', 'invalid box count')\n",
        "    for box in boxes:\n",
        "        new_pred.append([file_name, box[0], box[1], float(box[2]), float(box[4]), float(box[3]), float(box[5])])"
      ],
      "outputs": [
        {
          "output_type": "stream",
          "name": "stdout",
          "text": [
            "test/4787.jpg empty box\n"
          ]
        },
        {
          "output_type": "stream",
          "name": "stderr",
          "text": [
            "4871it [00:00, 6354.91it/s]\n"
          ]
        }
      ],
      "metadata": {
        "id": "9afc18a0"
      }
    },
    {
      "cell_type": "code",
      "execution_count": 5,
      "source": [
        "'''\n",
        "[\n",
        "    [file_name 1, confidence_score, x_min, x_max, y_min, y_max], \n",
        "    [file_name 2, confidence_score, x_min, x_max, y_min, y_max],\n",
        "    ,,,\n",
        "    [file_name , confidence_score, x_min, x_max, y_min, y_max]\n",
        "]\n",
        "'''\n",
        "    \n",
        "gt = []\n",
        "\n",
        "'''\n",
        "create gt\n",
        "'''\n",
        "    \n",
        "coco = COCO(GT_JSON)\n",
        "   \n",
        "'''\n",
        "coco.getImgIds(): return image id list\n",
        "    \n",
        "coco.loadImgs(image_id): return image_info\n",
        "    \n",
        "image_info['file_name']: return file name\n",
        "   \n",
        "coco.getAnnIds(imgIds=image_info['id']): return annotation id\n",
        "    \n",
        "coco.loadAnns(ann_ids): return annotation information list (annotation_info_list)\n",
        "    \n",
        "annotation_info_list[i]['bbox']: return i'th annotation [x_min, y_min, w, h]\n",
        "    \n",
        "annotation_info_list[i]['category_id']: return i'th annotation category\n",
        "    \n",
        "'''\n",
        "    \n",
        "for image_id in coco.getImgIds():\n",
        "        \n",
        "    image_info = coco.loadImgs(image_id)[0]\n",
        "    annotation_id = coco.getAnnIds(imgIds=image_info['id'])\n",
        "    annotation_info_list = coco.loadAnns(annotation_id)\n",
        "        \n",
        "    file_name = image_info['file_name']\n",
        "        \n",
        "    for annotation in annotation_info_list:\n",
        "        gt.append([file_name, annotation['category_id'],\n",
        "                   float(annotation['bbox'][0]),\n",
        "                   float(annotation['bbox'][0]) + float(annotation['bbox'][2]),\n",
        "                   float(annotation['bbox'][1]),\n",
        "                   (float(annotation['bbox'][1]) + float(annotation['bbox'][3]))])"
      ],
      "outputs": [
        {
          "output_type": "stream",
          "name": "stdout",
          "text": [
            "loading annotations into memory...\n",
            "Done (t=0.08s)\n",
            "creating index...\n",
            "index created!\n"
          ]
        }
      ],
      "metadata": {
        "id": "1804b52e"
      }
    },
    {
      "cell_type": "code",
      "execution_count": 6,
      "source": [
        "'''\n",
        "calculate mAP\n",
        "'''\n",
        "\n",
        "\n",
        "mean_ap, average_precisions = mean_average_precision_for_boxes(gt, new_pred, iou_threshold=0.5)\n",
        "\n",
        "print(mean_ap)"
      ],
      "outputs": [
        {
          "output_type": "stream",
          "name": "stdout",
          "text": [
            "Number of files in annotations: 4883\n",
            "Number of files in predictions: 4870\n",
            "Unique classes: 10\n",
            "Detections length: 4870\n",
            "Annotations length: 4883\n",
            "0                              | 0.000000 |    3966\n",
            "1                              | 0.000000 |    6352\n",
            "2                              | 0.000000 |     897\n",
            "3                              | 0.000000 |     936\n",
            "4                              | 0.000000 |     982\n",
            "5                              | 0.000000 |    2943\n",
            "6                              | 0.000000 |    1263\n",
            "7                              | 0.000000 |    5178\n",
            "8                              | 0.000000 |     159\n",
            "9                              | 0.000000 |     468\n",
            "mAP: 0.000000\n",
            "0.0\n"
          ]
        }
      ],
      "metadata": {
        "id": "83194763"
      }
    },
    {
      "cell_type": "code",
      "execution_count": null,
      "source": [],
      "outputs": [],
      "metadata": {
        "id": "134daa5c"
      }
    }
  ]
}