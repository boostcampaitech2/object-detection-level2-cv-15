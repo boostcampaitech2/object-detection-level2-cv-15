{
  "nbformat": 4,
  "nbformat_minor": 0,
  "metadata": {
    "kernelspec": {
      "display_name": "Python 3 (ipykernel)",
      "language": "python",
      "name": "python3"
    },
    "language_info": {
      "codemirror_mode": {
        "name": "ipython",
        "version": 3
      },
      "file_extension": ".py",
      "mimetype": "text/x-python",
      "name": "python",
      "nbconvert_exporter": "python",
      "pygments_lexer": "ipython3",
      "version": "3.7.11"
    },
    "colab": {
      "name": "ensemble.ipynb",
      "provenance": [],
      "collapsed_sections": []
    }
  },
  "cells": [
    {
      "cell_type": "code",
      "metadata": {
        "id": "H0eDBJ6leW6O"
      },
      "source": [
        "# numpy downgrade가 필요할 수 있음\n",
        "!python -m pip install numpy==1.2"
      ],
      "execution_count": null,
      "outputs": []
    },
    {
      "cell_type": "code",
      "metadata": {
        "id": "u_DroHUUeW6T",
        "outputId": "a89ccebe-b290-4313-b013-f5b11869ed4e"
      },
      "source": [
        "!pip install ensemble_boxes"
      ],
      "execution_count": null,
      "outputs": [
        {
          "name": "stdout",
          "output_type": "stream",
          "text": [
            "Requirement already satisfied: ensemble_boxes in /home/boostcamp2/anaconda3/envs/mmdet/lib/python3.7/site-packages (1.0.6)\r\n",
            "Requirement already satisfied: pandas in /home/boostcamp2/anaconda3/envs/mmdet/lib/python3.7/site-packages (from ensemble_boxes) (1.3.2)\r\n",
            "Requirement already satisfied: numba in /home/boostcamp2/anaconda3/envs/mmdet/lib/python3.7/site-packages (from ensemble_boxes) (0.54.0)\r\n",
            "Requirement already satisfied: numpy in /home/boostcamp2/anaconda3/envs/mmdet/lib/python3.7/site-packages (from ensemble_boxes) (1.20.0)\r\n",
            "Requirement already satisfied: llvmlite<0.38,>=0.37.0rc1 in /home/boostcamp2/anaconda3/envs/mmdet/lib/python3.7/site-packages (from numba->ensemble_boxes) (0.37.0)\r\n",
            "Requirement already satisfied: setuptools in /home/boostcamp2/anaconda3/envs/mmdet/lib/python3.7/site-packages (from numba->ensemble_boxes) (52.0.0.post20210125)\r\n",
            "Requirement already satisfied: pytz>=2017.3 in /home/boostcamp2/anaconda3/envs/mmdet/lib/python3.7/site-packages (from pandas->ensemble_boxes) (2021.1)\r\n",
            "Requirement already satisfied: python-dateutil>=2.7.3 in /home/boostcamp2/anaconda3/envs/mmdet/lib/python3.7/site-packages (from pandas->ensemble_boxes) (2.8.2)\r\n",
            "Requirement already satisfied: six>=1.5 in /home/boostcamp2/anaconda3/envs/mmdet/lib/python3.7/site-packages (from python-dateutil>=2.7.3->pandas->ensemble_boxes) (1.16.0)\r\n"
          ]
        }
      ]
    },
    {
      "cell_type": "code",
      "metadata": {
        "id": "NsgB-nG0eW6V"
      },
      "source": [
        "import pandas as pd\n",
        "from ensemble_boxes import *\n",
        "import numpy as np\n",
        "from pycocotools.coco import COCO"
      ],
      "execution_count": null,
      "outputs": []
    },
    {
      "cell_type": "code",
      "metadata": {
        "id": "OUdIDcd8eW6V"
      },
      "source": [
        "# ensemble csv files\n",
        "submission_files = ['./sample_submission.csv'] # submission lists\n",
        "submission_df = [pd.read_csv(file) for file in submission_files]"
      ],
      "execution_count": null,
      "outputs": []
    },
    {
      "cell_type": "code",
      "metadata": {
        "id": "BN-jeib3eW6W"
      },
      "source": [
        "image_ids = submission_df[0]['image_id'].tolist()"
      ],
      "execution_count": null,
      "outputs": []
    },
    {
      "cell_type": "code",
      "metadata": {
        "id": "8B3F_YsoeW6W",
        "outputId": "1adb0e21-061f-4a29-ec2e-9a3dfd4bbb72"
      },
      "source": [
        "annotation = '../dataset/test.json'\n",
        "coco = COCO(annotation)"
      ],
      "execution_count": null,
      "outputs": [
        {
          "name": "stdout",
          "output_type": "stream",
          "text": [
            "loading annotations into memory...\n",
            "Done (t=0.01s)\n",
            "creating index...\n",
            "index created!\n"
          ]
        }
      ]
    },
    {
      "cell_type": "code",
      "metadata": {
        "id": "9A9eRwBLeW6X"
      },
      "source": [
        "prediction_strings = []\n",
        "file_names = []\n",
        "iou_thr = 0.4\n",
        "\n",
        "for i, image_id in enumerate(image_ids):\n",
        "    prediction_string = ''\n",
        "    boxes_list = []\n",
        "    scores_list = []\n",
        "    labels_list = []\n",
        "    image_info = coco.loadImgs(i)[0]\n",
        "    \n",
        "    for df in submission_df:\n",
        "        predict_string = df[df['image_id'] == image_id]['PredictionString'].tolist()[0]\n",
        "        predict_list = str(predict_string).split()\n",
        "        \n",
        "        if len(predict_list)==0 or len(predict_list)==1:\n",
        "            continue\n",
        "            \n",
        "        predict_list = np.reshape(predict_list, (-1, 6))\n",
        "        box_list = []\n",
        "        \n",
        "        for box in predict_list[:, 2:6].tolist():\n",
        "            box[0] = float(box[0]) / image_info['width']\n",
        "            box[1] = float(box[1]) / image_info['height']\n",
        "            box[2] = float(box[2]) / image_info['width']\n",
        "            box[3] = float(box[3]) / image_info['height']\n",
        "            box_list.append(box)\n",
        "            \n",
        "        boxes_list.append(box_list)\n",
        "        scores_list.append(list(map(float, predict_list[:, 1].tolist())))\n",
        "        labels_list.append(list(map(int, predict_list[:, 0].tolist())))\n",
        "    \n",
        "    if len(boxes_list):\n",
        "        boxes, scores, labels = nms(boxes_list, scores_list, labels_list, iou_thr=iou_thr)\n",
        "        for box, score, label in zip(boxes, scores, labels):\n",
        "            prediction_string += str(label) + ' ' + str(score) + ' ' + str(box[0] * image_info['width']) + ' ' + str(box[1] * image_info['height']) + ' ' + str(box[2] * image_info['width']) + ' ' + str(box[3] * image_info['height']) + ' '\n",
        "    \n",
        "    prediction_strings.append(prediction_string)\n",
        "    file_names.append(image_id)"
      ],
      "execution_count": null,
      "outputs": []
    },
    {
      "cell_type": "code",
      "metadata": {
        "id": "QjWcbBupeW6a",
        "outputId": "f33d988c-9678-46ad-fd59-c7a59b6223fe"
      },
      "source": [
        "submission = pd.DataFrame()\n",
        "submission['PredictionString'] = prediction_strings\n",
        "submission['image_id'] = file_names\n",
        "submission.to_csv('submission_ensemble.csv')\n",
        "\n",
        "submission.head()"
      ],
      "execution_count": null,
      "outputs": [
        {
          "data": {
            "text/html": [
              "<div>\n",
              "<style scoped>\n",
              "    .dataframe tbody tr th:only-of-type {\n",
              "        vertical-align: middle;\n",
              "    }\n",
              "\n",
              "    .dataframe tbody tr th {\n",
              "        vertical-align: top;\n",
              "    }\n",
              "\n",
              "    .dataframe thead th {\n",
              "        text-align: right;\n",
              "    }\n",
              "</style>\n",
              "<table border=\"1\" class=\"dataframe\">\n",
              "  <thead>\n",
              "    <tr style=\"text-align: right;\">\n",
              "      <th></th>\n",
              "      <th>PredictionString</th>\n",
              "      <th>image_id</th>\n",
              "    </tr>\n",
              "  </thead>\n",
              "  <tbody>\n",
              "    <tr>\n",
              "      <th>0</th>\n",
              "      <td>0 1.0 391.1 408.4 657.3 601.4 0 0.201180130243...</td>\n",
              "      <td>test/0000.jpg</td>\n",
              "    </tr>\n",
              "    <tr>\n",
              "      <th>1</th>\n",
              "      <td>0 0.203600212931633 684.6026611328125 642.4695...</td>\n",
              "      <td>test/0001.jpg</td>\n",
              "    </tr>\n",
              "    <tr>\n",
              "      <th>2</th>\n",
              "      <td>0 0.34274938702583313 306.0867919921875 359.00...</td>\n",
              "      <td>test/0002.jpg</td>\n",
              "    </tr>\n",
              "    <tr>\n",
              "      <th>3</th>\n",
              "      <td>0 0.06809787452220917 0.0 1.2754687070846558 1...</td>\n",
              "      <td>test/0003.jpg</td>\n",
              "    </tr>\n",
              "    <tr>\n",
              "      <th>4</th>\n",
              "      <td>0 1.0 66.0 502.3 1022.6 1023.7 0 1.0 653.9 275...</td>\n",
              "      <td>test/0004.jpg</td>\n",
              "    </tr>\n",
              "  </tbody>\n",
              "</table>\n",
              "</div>"
            ],
            "text/plain": [
              "                                    PredictionString       image_id\n",
              "0  0 1.0 391.1 408.4 657.3 601.4 0 0.201180130243...  test/0000.jpg\n",
              "1  0 0.203600212931633 684.6026611328125 642.4695...  test/0001.jpg\n",
              "2  0 0.34274938702583313 306.0867919921875 359.00...  test/0002.jpg\n",
              "3  0 0.06809787452220917 0.0 1.2754687070846558 1...  test/0003.jpg\n",
              "4  0 1.0 66.0 502.3 1022.6 1023.7 0 1.0 653.9 275...  test/0004.jpg"
            ]
          },
          "execution_count": 7,
          "metadata": {},
          "output_type": "execute_result"
        }
      ]
    }
  ]
}