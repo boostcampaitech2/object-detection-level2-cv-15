{
 "cells": [
  {
   "cell_type": "code",
   "execution_count": 1,
   "source": [
    "import torch\n",
    "import torch.nn as nn\n",
    "\n",
    "pred_y1 = torch.tensor([1.], requires_grad=True)\n",
    "y1 = torch.tensor([5.], requires_grad=True)\n",
    "pred_y2 = torch.tensor([2.], requires_grad=True)\n",
    "y2 = torch.tensor([4.], requires_grad=True)\n",
    "\n",
    "\n",
    "loss_1 = y1**2 - pred_y1**2\n",
    "loss_2 = y2**3 - pred_y2**3\n",
    "\n",
    "print(loss_1)\n",
    "#tensor([24.], grad_fn=<SubBackward0>)\n",
    "print(loss_2)\n",
    "#tensor([56.], grad_fn=<SubBackward0>)\n",
    "\n",
    "# loss_1에 대해서 backward을 했을 때,\n",
    "loss_1.backward()\n",
    "\n",
    "# 다음과 같이, backward를 실시한다면, 각 tensor안에 grad attribute안에\n",
    "# loss_1에서 y1, pred_y1에 대한 편미분 값을 저장하게 된다.\n",
    "\n",
    "print(pred_y1.grad)\n",
    "#tensor([-2.])\n",
    "print(y1.grad)\n",
    "#tensor([10.])\n",
    "\n",
    "loss_2.backward()\n",
    "\n",
    "# loss_2에 대해 backward\n",
    "print(pred_y2.grad)\n",
    "#tensor([-12.])\n",
    "print(y2.grad)\n",
    "#tensor([48.])\n",
    "\n",
    "# 각각 backward를 진행했을 때, 각 텐서의 grad 안에 미분 값을 저장하게 됩니다."
   ],
   "outputs": [
    {
     "output_type": "stream",
     "name": "stdout",
     "text": [
      "tensor([24.], grad_fn=<SubBackward0>)\n",
      "tensor([56.], grad_fn=<SubBackward0>)\n",
      "tensor([-2.])\n",
      "tensor([10.])\n",
      "tensor([-12.])\n",
      "tensor([48.])\n"
     ]
    }
   ],
   "metadata": {}
  },
  {
   "cell_type": "code",
   "execution_count": 2,
   "source": [
    "import torch\n",
    "import torch.nn as nn\n",
    "\n",
    "pred_y1 = torch.tensor([1.], requires_grad=True)\n",
    "y1 = torch.tensor([5.], requires_grad=True)\n",
    "pred_y2 = torch.tensor([2.], requires_grad=True)\n",
    "y2 = torch.tensor([4.], requires_grad=True)\n",
    "\n",
    "\n",
    "loss_1 = y1**2 - pred_y1**2\n",
    "loss_2 = y2**3 - pred_y2**3\n",
    "\n",
    "print(loss_1)\n",
    "#tensor([24.], grad_fn=<SubBackward0>)\n",
    "print(loss_2)\n",
    "#tensor([56.], grad_fn=<SubBackward0>)\n",
    "loss = loss_1 + loss_2\n",
    "print(loss)\n",
    "# tensor([80.], grad_fn=<AddBackward0>)\n",
    "\n",
    "# loss = loss_1 + loss_2에 대해서 backward()를 했을 때,\n",
    "loss.backward()\n",
    "\n",
    "# 각 loss에서 진행했던 backward() 값과 동일하게 나옵니다.\n",
    "print(pred_y1.grad)\n",
    "#tensor([-2.])\n",
    "print(y1.grad)\n",
    "#tensor([10.])\n",
    "print(pred_y2.grad)\n",
    "#tensor([-12.])\n",
    "print(y2.grad)\n",
    "#tensor([48.])\n",
    "\n",
    "# 즉, loss를 합해도 동일한 gradient를 가지게 됩니다."
   ],
   "outputs": [
    {
     "output_type": "stream",
     "name": "stdout",
     "text": [
      "tensor([24.], grad_fn=<SubBackward0>)\n",
      "tensor([56.], grad_fn=<SubBackward0>)\n",
      "tensor([80.], grad_fn=<AddBackward0>)\n",
      "tensor([-2.])\n",
      "tensor([10.])\n",
      "tensor([-12.])\n",
      "tensor([48.])\n"
     ]
    }
   ],
   "metadata": {}
  },
  {
   "cell_type": "code",
   "execution_count": 3,
   "source": [
    "import torch\n",
    "import torch.nn as nn\n",
    "\n",
    "pred_y1 = torch.tensor([1., 2., 3.], requires_grad=True)\n",
    "y1 = torch.tensor([5., 6., 7.], requires_grad=True)\n",
    "\n",
    "loss_1 = y1**2 - pred_y1**2\n",
    "\n",
    "print(loss_1)\n",
    "#tensor([24., 32., 40.], grad_fn=<SubBackward0>)\n",
    "\n",
    "loss_1.backward()\n",
    "# RuntimeError: grad can be implicitly created only for scalar outputs"
   ],
   "outputs": [
    {
     "output_type": "stream",
     "name": "stdout",
     "text": [
      "tensor([24., 32., 40.], grad_fn=<SubBackward0>)\n"
     ]
    },
    {
     "output_type": "error",
     "ename": "RuntimeError",
     "evalue": "grad can be implicitly created only for scalar outputs",
     "traceback": [
      "\u001b[0;31m---------------------------------------------------------------------------\u001b[0m",
      "\u001b[0;31mRuntimeError\u001b[0m                              Traceback (most recent call last)",
      "\u001b[0;32m/tmp/ipykernel_121532/1626683223.py\u001b[0m in \u001b[0;36m<module>\u001b[0;34m\u001b[0m\n\u001b[1;32m     10\u001b[0m \u001b[0;31m#tensor([24., 32., 40.], grad_fn=<SubBackward0>)\u001b[0m\u001b[0;34m\u001b[0m\u001b[0;34m\u001b[0m\u001b[0;34m\u001b[0m\u001b[0m\n\u001b[1;32m     11\u001b[0m \u001b[0;34m\u001b[0m\u001b[0m\n\u001b[0;32m---> 12\u001b[0;31m \u001b[0mloss_1\u001b[0m\u001b[0;34m.\u001b[0m\u001b[0mbackward\u001b[0m\u001b[0;34m(\u001b[0m\u001b[0;34m)\u001b[0m\u001b[0;34m\u001b[0m\u001b[0;34m\u001b[0m\u001b[0m\n\u001b[0m\u001b[1;32m     13\u001b[0m \u001b[0;31m# RuntimeError: grad can be implicitly created only for scalar outputs\u001b[0m\u001b[0;34m\u001b[0m\u001b[0;34m\u001b[0m\u001b[0;34m\u001b[0m\u001b[0m\n",
      "\u001b[0;32m/opt/conda/envs/detection/lib/python3.7/site-packages/torch/_tensor.py\u001b[0m in \u001b[0;36mbackward\u001b[0;34m(self, gradient, retain_graph, create_graph, inputs)\u001b[0m\n\u001b[1;32m    253\u001b[0m                 \u001b[0mcreate_graph\u001b[0m\u001b[0;34m=\u001b[0m\u001b[0mcreate_graph\u001b[0m\u001b[0;34m,\u001b[0m\u001b[0;34m\u001b[0m\u001b[0;34m\u001b[0m\u001b[0m\n\u001b[1;32m    254\u001b[0m                 inputs=inputs)\n\u001b[0;32m--> 255\u001b[0;31m         \u001b[0mtorch\u001b[0m\u001b[0;34m.\u001b[0m\u001b[0mautograd\u001b[0m\u001b[0;34m.\u001b[0m\u001b[0mbackward\u001b[0m\u001b[0;34m(\u001b[0m\u001b[0mself\u001b[0m\u001b[0;34m,\u001b[0m \u001b[0mgradient\u001b[0m\u001b[0;34m,\u001b[0m \u001b[0mretain_graph\u001b[0m\u001b[0;34m,\u001b[0m \u001b[0mcreate_graph\u001b[0m\u001b[0;34m,\u001b[0m \u001b[0minputs\u001b[0m\u001b[0;34m=\u001b[0m\u001b[0minputs\u001b[0m\u001b[0;34m)\u001b[0m\u001b[0;34m\u001b[0m\u001b[0;34m\u001b[0m\u001b[0m\n\u001b[0m\u001b[1;32m    256\u001b[0m \u001b[0;34m\u001b[0m\u001b[0m\n\u001b[1;32m    257\u001b[0m     \u001b[0;32mdef\u001b[0m \u001b[0mregister_hook\u001b[0m\u001b[0;34m(\u001b[0m\u001b[0mself\u001b[0m\u001b[0;34m,\u001b[0m \u001b[0mhook\u001b[0m\u001b[0;34m)\u001b[0m\u001b[0;34m:\u001b[0m\u001b[0;34m\u001b[0m\u001b[0;34m\u001b[0m\u001b[0m\n",
      "\u001b[0;32m/opt/conda/envs/detection/lib/python3.7/site-packages/torch/autograd/__init__.py\u001b[0m in \u001b[0;36mbackward\u001b[0;34m(tensors, grad_tensors, retain_graph, create_graph, grad_variables, inputs)\u001b[0m\n\u001b[1;32m    141\u001b[0m \u001b[0;34m\u001b[0m\u001b[0m\n\u001b[1;32m    142\u001b[0m     \u001b[0mgrad_tensors_\u001b[0m \u001b[0;34m=\u001b[0m \u001b[0m_tensor_or_tensors_to_tuple\u001b[0m\u001b[0;34m(\u001b[0m\u001b[0mgrad_tensors\u001b[0m\u001b[0;34m,\u001b[0m \u001b[0mlen\u001b[0m\u001b[0;34m(\u001b[0m\u001b[0mtensors\u001b[0m\u001b[0;34m)\u001b[0m\u001b[0;34m)\u001b[0m\u001b[0;34m\u001b[0m\u001b[0;34m\u001b[0m\u001b[0m\n\u001b[0;32m--> 143\u001b[0;31m     \u001b[0mgrad_tensors_\u001b[0m \u001b[0;34m=\u001b[0m \u001b[0m_make_grads\u001b[0m\u001b[0;34m(\u001b[0m\u001b[0mtensors\u001b[0m\u001b[0;34m,\u001b[0m \u001b[0mgrad_tensors_\u001b[0m\u001b[0;34m)\u001b[0m\u001b[0;34m\u001b[0m\u001b[0;34m\u001b[0m\u001b[0m\n\u001b[0m\u001b[1;32m    144\u001b[0m     \u001b[0;32mif\u001b[0m \u001b[0mretain_graph\u001b[0m \u001b[0;32mis\u001b[0m \u001b[0;32mNone\u001b[0m\u001b[0;34m:\u001b[0m\u001b[0;34m\u001b[0m\u001b[0;34m\u001b[0m\u001b[0m\n\u001b[1;32m    145\u001b[0m         \u001b[0mretain_graph\u001b[0m \u001b[0;34m=\u001b[0m \u001b[0mcreate_graph\u001b[0m\u001b[0;34m\u001b[0m\u001b[0;34m\u001b[0m\u001b[0m\n",
      "\u001b[0;32m/opt/conda/envs/detection/lib/python3.7/site-packages/torch/autograd/__init__.py\u001b[0m in \u001b[0;36m_make_grads\u001b[0;34m(outputs, grads)\u001b[0m\n\u001b[1;32m     48\u001b[0m             \u001b[0;32mif\u001b[0m \u001b[0mout\u001b[0m\u001b[0;34m.\u001b[0m\u001b[0mrequires_grad\u001b[0m\u001b[0;34m:\u001b[0m\u001b[0;34m\u001b[0m\u001b[0;34m\u001b[0m\u001b[0m\n\u001b[1;32m     49\u001b[0m                 \u001b[0;32mif\u001b[0m \u001b[0mout\u001b[0m\u001b[0;34m.\u001b[0m\u001b[0mnumel\u001b[0m\u001b[0;34m(\u001b[0m\u001b[0;34m)\u001b[0m \u001b[0;34m!=\u001b[0m \u001b[0;36m1\u001b[0m\u001b[0;34m:\u001b[0m\u001b[0;34m\u001b[0m\u001b[0;34m\u001b[0m\u001b[0m\n\u001b[0;32m---> 50\u001b[0;31m                     \u001b[0;32mraise\u001b[0m \u001b[0mRuntimeError\u001b[0m\u001b[0;34m(\u001b[0m\u001b[0;34m\"grad can be implicitly created only for scalar outputs\"\u001b[0m\u001b[0;34m)\u001b[0m\u001b[0;34m\u001b[0m\u001b[0;34m\u001b[0m\u001b[0m\n\u001b[0m\u001b[1;32m     51\u001b[0m                 \u001b[0mnew_grads\u001b[0m\u001b[0;34m.\u001b[0m\u001b[0mappend\u001b[0m\u001b[0;34m(\u001b[0m\u001b[0mtorch\u001b[0m\u001b[0;34m.\u001b[0m\u001b[0mones_like\u001b[0m\u001b[0;34m(\u001b[0m\u001b[0mout\u001b[0m\u001b[0;34m,\u001b[0m \u001b[0mmemory_format\u001b[0m\u001b[0;34m=\u001b[0m\u001b[0mtorch\u001b[0m\u001b[0;34m.\u001b[0m\u001b[0mpreserve_format\u001b[0m\u001b[0;34m)\u001b[0m\u001b[0;34m)\u001b[0m\u001b[0;34m\u001b[0m\u001b[0;34m\u001b[0m\u001b[0m\n\u001b[1;32m     52\u001b[0m             \u001b[0;32melse\u001b[0m\u001b[0;34m:\u001b[0m\u001b[0;34m\u001b[0m\u001b[0;34m\u001b[0m\u001b[0m\n",
      "\u001b[0;31mRuntimeError\u001b[0m: grad can be implicitly created only for scalar outputs"
     ]
    }
   ],
   "metadata": {}
  },
  {
   "cell_type": "code",
   "execution_count": 4,
   "source": [
    "loss_1 = (y1**2 - pred_y1**2).sum()\n",
    "loss_1.backward()\n",
    "\n",
    "print(pred_y1.grad)\n",
    "#tensor([-2., -4., -6.])\n",
    "print(y1.grad)\n",
    "#tensor([10., 12., 14.])"
   ],
   "outputs": [
    {
     "output_type": "stream",
     "name": "stdout",
     "text": [
      "tensor([-2., -4., -6.])\n",
      "tensor([10., 12., 14.])\n"
     ]
    }
   ],
   "metadata": {}
  },
  {
   "cell_type": "code",
   "execution_count": null,
   "source": [],
   "outputs": [],
   "metadata": {}
  },
  {
   "cell_type": "code",
   "execution_count": null,
   "source": [],
   "outputs": [],
   "metadata": {}
  },
  {
   "cell_type": "code",
   "execution_count": null,
   "source": [],
   "outputs": [],
   "metadata": {}
  }
 ],
 "metadata": {
  "orig_nbformat": 4,
  "kernelspec": {
   "name": "detection",
   "display_name": "detection",
   "language": "python"
  }
 },
 "nbformat": 4,
 "nbformat_minor": 2
}