{
 "cells": [
  {
   "cell_type": "code",
   "execution_count": null,
   "id": "8425d721",
   "metadata": {},
   "outputs": [],
   "source": [
    "!pip install map_boxes\n",
    "!pip install tqdm\n",
    "!pip install pycocotools"
   ]
  },
  {
   "cell_type": "code",
   "execution_count": null,
   "id": "b64e3bb0",
   "metadata": {},
   "outputs": [],
   "source": [
    "from map_boxes import mean_average_precision_for_boxes\n",
    "import pandas as pd\n",
    "import numpy as np\n",
    "import json\n",
    "from tqdm import tqdm\n",
    "from pycocotools.coco import COCO"
   ]
  },
  {
   "cell_type": "code",
   "execution_count": null,
   "id": "83d36147",
   "metadata": {},
   "outputs": [],
   "source": [
    "GT_JSON = '../../dataset/train.json'\n",
    "PRED_CSV = 'put submission csv'\n",
    "\n",
    "\n",
    "    \n",
    "# load ground truth\n",
    "with open(GT_JSON, 'r') as outfile:\n",
    "    test_anno = (json.load(outfile))\n",
    "\n",
    "# load prediction\n",
    "pred_df = pd.read_csv(PRED_CSV)\n",
    "\n",
    "   "
   ]
  },
  {
   "cell_type": "code",
   "execution_count": null,
   "id": "9afc18a0",
   "metadata": {},
   "outputs": [],
   "source": [
    "'''\n",
    "[\n",
    "    [file_name 1, confidence_score, x_min, x_max, y_min, y_max], \n",
    "    [file_name 2 confidence_score, x_min, x_max, y_min, y_max],\n",
    "    ,,,\n",
    "    [file_name , confidence_score, x_min, x_max, y_min, y_max]\n",
    "]\n",
    "'''\n",
    "    \n",
    "new_pred = []\n",
    "\n",
    "file_names = pred_df['image_id'].values.tolist()\n",
    "bboxes = pred_df['PredictionString'].values.tolist()\n",
    "    \n",
    "'''\n",
    "create new_pred\n",
    "'''\n",
    "    \n",
    "for i, bbox in enumerate(bboxes):\n",
    "    if isinstance(bbox, float):\n",
    "        print(f'{file_names[i]} empty box')\n",
    "\n",
    "for file_name, bbox in tqdm(zip(file_names, bboxes)):\n",
    "    boxes = np.array(str(bbox).split(' '))\n",
    "    \n",
    "    if len(boxes) % 6 == 1:\n",
    "        boxes = boxes[:-1].reshape(-1, 6)\n",
    "    elif len(boxes) % 6 == 0:\n",
    "        boxes = boxes.reshape(-1, 6)\n",
    "    else:\n",
    "        raise Exception('error', 'invalid box count')\n",
    "    for box in boxes:\n",
    "        new_pred.append([file_name, box[0], box[1], float(box[2]), float(box[4]), float(box[3]), float(box[5])])"
   ]
  },
  {
   "cell_type": "code",
   "execution_count": null,
   "id": "1804b52e",
   "metadata": {},
   "outputs": [],
   "source": [
    "'''\n",
    "[\n",
    "    [file_name 1, confidence_score, x_min, x_max, y_min, y_max], \n",
    "    [file_name 2, confidence_score, x_min, x_max, y_min, y_max],\n",
    "    ,,,\n",
    "    [file_name , confidence_score, x_min, x_max, y_min, y_max]\n",
    "]\n",
    "'''\n",
    "    \n",
    "gt = []\n",
    "\n",
    "'''\n",
    "create gt\n",
    "'''\n",
    "    \n",
    "coco = COCO(GT_JSON)\n",
    "   \n",
    "'''\n",
    "coco.getImgIds(): return image id list\n",
    "    \n",
    "coco.loadImgs(image_id): return image_info\n",
    "    \n",
    "image_info['file_name']: return file name\n",
    "   \n",
    "coco.getAnnIds(imgIds=image_info['id']): return annotation id\n",
    "    \n",
    "coco.loadAnns(ann_ids): return annotation information list (annotation_info_list)\n",
    "    \n",
    "annotation_info_list[i]['bbox']: return i'th annotation [x_min, y_min, w, h]\n",
    "    \n",
    "annotation_info_list[i]['category_id']: return i'th annotation category\n",
    "    \n",
    "'''\n",
    "    \n",
    "for image_id in coco.getImgIds():\n",
    "        \n",
    "    image_info = coco.loadImgs(image_id)[0]\n",
    "    annotation_id = coco.getAnnIds(imgIds=image_info['id'])\n",
    "    annotation_info_list = coco.loadAnns(annotation_id)\n",
    "        \n",
    "    file_name = image_info['file_name']\n",
    "        \n",
    "    for annotation in annotation_info_list:\n",
    "        gt.append([file_name, annotation['category_id'],\n",
    "                   float(annotation['bbox'][0]),\n",
    "                   float(annotation['bbox'][0]) + float(annotation['bbox'][2]),\n",
    "                   float(annotation['bbox'][1]),\n",
    "                   (float(annotation['bbox'][1]) + float(annotation['bbox'][3]))])"
   ]
  },
  {
   "cell_type": "code",
   "execution_count": null,
   "id": "83194763",
   "metadata": {},
   "outputs": [],
   "source": [
    "'''\n",
    "calculate mAP\n",
    "'''\n",
    "\n",
    "\n",
    "mean_ap, average_precisions = mean_average_precision_for_boxes(gt, new_pred, iou_threshold=0.5)\n",
    "\n",
    "print(mean_ap)"
   ]
  },
  {
   "cell_type": "code",
   "execution_count": null,
   "id": "134daa5c",
   "metadata": {},
   "outputs": [],
   "source": []
  }
 ],
 "metadata": {
  "kernelspec": {
   "display_name": "Python 3 (ipykernel)",
   "language": "python",
   "name": "python3"
  },
  "language_info": {
   "codemirror_mode": {
    "name": "ipython",
    "version": 3
   },
   "file_extension": ".py",
   "mimetype": "text/x-python",
   "name": "python",
   "nbconvert_exporter": "python",
   "pygments_lexer": "ipython3",
   "version": "3.7.11"
  }
 },
 "nbformat": 4,
 "nbformat_minor": 5
}
