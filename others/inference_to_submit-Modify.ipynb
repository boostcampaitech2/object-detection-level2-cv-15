{
 "cells": [
  {
   "cell_type": "code",
   "execution_count": 1,
   "id": "8417cc6c-7707-4342-a4d3-752d90444f2c",
   "metadata": {},
   "outputs": [],
   "source": [
    "import os\n",
    "import torch\n",
    "import cv2\n",
    "import pandas as pd\n",
    "from PIL import Image\n",
    "import pandas as pd\n",
    "import csv"
   ]
  },
  {
   "cell_type": "code",
   "execution_count": 81,
   "id": "7e754a0c-0e7f-4f82-89ed-f1fe7a62183f",
   "metadata": {},
   "outputs": [],
   "source": [
    "# dir_path = '/opt/ml/detection/yolov5/runs/detect/exp3/labels'\n",
    "# file_list = os.listdir(dir_path)\n",
    "# file_list.sort()\n",
    "\n",
    "csv_1 = pd.read_csv('sojung_596_v1.csv')\n",
    "\n",
    "column_names = ['class','x_center','y_center','width','height','confidence']\n",
    "# data = pd.read_csv(dir_path+'0001.txt',sep=' ',names=column_names)\n",
    "\n",
    "prediction_strings = []\n",
    "file_names = []\n",
    "pre_index = -1\n",
    "\n",
    "\n",
    "threshold = 0.005\n",
    "\n",
    "before_counts = []\n",
    "after_counts = []\n",
    "\n",
    "csv_prediction_strings = list(csv_1['PredictionString'])\n",
    "csv_image_id = list(csv_1['image_id'])\n",
    "file_names = csv_image_id\n",
    "\n",
    "for i, out in enumerate(csv_prediction_strings):\n",
    "    # print(out)\n",
    "    each_line_data = out.split()\n",
    "    \n",
    "    prediction_string = ''\n",
    "    each_image_data = []\n",
    "    index = 0\n",
    "    for _ in range(int(len(each_line_data)/6)):\n",
    "        each_box = ''\n",
    "        for k in range(6):\n",
    "            each_box += str(each_line_data[index]) + ' '\n",
    "            index += 1\n",
    "        each_image_data.append(each_box)\n",
    "    \n",
    "    before_counts.append(len(each_image_data))\n",
    "    count = 0\n",
    "    for line in each_image_data:\n",
    "        each_data = line.split()\n",
    "        # print(each_data)\n",
    "        if float(each_data[1]) > threshold:\n",
    "            prediction_string += line\n",
    "            count += 1\n",
    "    prediction_strings.append(prediction_string)\n",
    "    \n",
    "    after_counts.append(count)\n",
    "\n",
    "submission = pd.DataFrame()\n",
    "submission['PredictionString'] = prediction_strings\n",
    "submission['image_id'] = file_names\n",
    "submission.to_csv('Revised_submission.csv',index=None)"
   ]
  },
  {
   "cell_type": "code",
   "execution_count": 82,
   "id": "6866ec18-d933-41a5-8965-5319938a055c",
   "metadata": {},
   "outputs": [
    {
     "name": "stdout",
     "output_type": "stream",
     "text": [
      "487100\n",
      "40135\n"
     ]
    }
   ],
   "source": [
    "print(sum(before_counts))\n",
    "print(sum(after_counts))"
   ]
  },
  {
   "cell_type": "code",
   "execution_count": null,
   "id": "c81cace7-1f56-4743-8ceb-bcffa349b85d",
   "metadata": {},
   "outputs": [],
   "source": []
  }
 ],
 "metadata": {
  "kernelspec": {
   "display_name": "Python 3 (ipykernel)",
   "language": "python",
   "name": "python3"
  },
  "language_info": {
   "codemirror_mode": {
    "name": "ipython",
    "version": 3
   },
   "file_extension": ".py",
   "mimetype": "text/x-python",
   "name": "python",
   "nbconvert_exporter": "python",
   "pygments_lexer": "ipython3",
   "version": "3.7.11"
  }
 },
 "nbformat": 4,
 "nbformat_minor": 5
}
