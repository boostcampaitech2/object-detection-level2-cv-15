{
 "cells": [
  {
   "cell_type": "code",
   "execution_count": 1,
   "id": "8417cc6c-7707-4342-a4d3-752d90444f2c",
   "metadata": {},
   "outputs": [],
   "source": [
    "import os\n",
    "import torch\n",
    "import cv2\n",
    "import pandas as pd\n",
    "from PIL import Image\n",
    "import pandas as pd"
   ]
  },
  {
   "cell_type": "code",
   "execution_count": 58,
   "id": "7e754a0c-0e7f-4f82-89ed-f1fe7a62183f",
   "metadata": {},
   "outputs": [],
   "source": [
    "dir_path = '/opt/ml/detection/yolov5/runs/detect/exp3/labels'\n",
    "file_list = os.listdir(dir_path)\n",
    "file_list.sort()\n",
    "\n",
    "column_names = ['class','x_center','y_center','width','height','confidence']\n",
    "# data = pd.read_csv(dir_path+'0001.txt',sep=' ',names=column_names)\n",
    "\n",
    "prediction_strings = []\n",
    "file_names = []\n",
    "pre_index = -1\n",
    "\n",
    "for i, out in enumerate(file_list):\n",
    "    if out.startswith('.'):\n",
    "        continue\n",
    "\n",
    "    while int(out[:-4]) > pre_index+1 :\n",
    "        pre_index += 1\n",
    "        if pre_index >= 4871:\n",
    "            break\n",
    "        prediction_strings.append('')\n",
    "        file_names.append(f'test/'+ f'{pre_index:04d}' +'.jpg')\n",
    "    \n",
    "    prediction_string= ''\n",
    "    file = open(os.path.join(dir_path, out), \"r\")\n",
    "\n",
    "    for line in file:\n",
    "        each_data = line.split()\n",
    "        # print(float(each_data[1]))\n",
    "        # print(float(each_data[3]/2))\n",
    "        each_data[1] = (float(each_data[1]) - (float(each_data[3])/2)) * 1024\n",
    "        each_data[2] = (float(each_data[2]) - (float(each_data[4])/2)) * 1024\n",
    "        each_data[3] = float(each_data[3]) * 1024\n",
    "        each_data[4] = float(each_data[4]) * 1024\n",
    "        each_data[5] = float(each_data[5])\n",
    "\n",
    "        prediction_string += each_data[0] + ' ' + str(round(each_data[5],5)) + ' ' + \\\n",
    "                            str(round(each_data[1],5)) + ' ' + \\\n",
    "                            str(round(each_data[2],5)) + ' ' + \\\n",
    "                            str(round(each_data[3],5)) + ' ' + \\\n",
    "                            str(round(each_data[4],5)) + ' '\n",
    "\n",
    "    prediction_strings.append(prediction_string)\n",
    "    file_names.append('test/'+ out[:-3]+'jpg')\n",
    "    pre_index = int(out[:-4])\n",
    "    if pre_index >= 4870:\n",
    "        break\n",
    "pre_index += 1\n",
    "while pre_index <= 4870:\n",
    "    prediction_strings.append('')\n",
    "    file_names.append(f'test/'+ f'{pre_index:04d}' +'.jpg')\n",
    "    pre_index += 1\n",
    "\n",
    "submission = pd.DataFrame()\n",
    "submission['PredictionString'] = prediction_strings\n",
    "submission['image_id'] = file_names\n",
    "submission.to_csv('submission1.csv',index=None)"
   ]
  },
  {
   "cell_type": "code",
   "execution_count": null,
   "id": "c81cace7-1f56-4743-8ceb-bcffa349b85d",
   "metadata": {},
   "outputs": [],
   "source": []
  }
 ],
 "metadata": {
  "kernelspec": {
   "display_name": "Python 3 (ipykernel)",
   "language": "python",
   "name": "python3"
  },
  "language_info": {
   "codemirror_mode": {
    "name": "ipython",
    "version": 3
   },
   "file_extension": ".py",
   "mimetype": "text/x-python",
   "name": "python",
   "nbconvert_exporter": "python",
   "pygments_lexer": "ipython3",
   "version": "3.7.11"
  }
 },
 "nbformat": 4,
 "nbformat_minor": 5
}
