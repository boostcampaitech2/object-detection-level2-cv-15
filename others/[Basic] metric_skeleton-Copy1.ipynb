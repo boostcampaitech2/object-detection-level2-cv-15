{
 "cells": [
  {
   "cell_type": "code",
   "execution_count": 1,
   "id": "2f5bc891",
   "metadata": {
    "id": "2f5bc891"
   },
   "outputs": [],
   "source": [
    "# !pip install map_boxes\n",
    "# !pip install tqdm\n",
    "# !pip install pycocotools"
   ]
  },
  {
   "cell_type": "code",
   "execution_count": 2,
   "id": "8377b5e0",
   "metadata": {
    "id": "8377b5e0"
   },
   "outputs": [],
   "source": [
    "from map_boxes import mean_average_precision_for_boxes\n",
    "import pandas as pd\n",
    "import numpy as np\n",
    "import json\n",
    "from tqdm import tqdm\n",
    "from pycocotools.coco import COCO"
   ]
  },
  {
   "cell_type": "code",
   "execution_count": 3,
   "id": "bb2a5373",
   "metadata": {
    "id": "bb2a5373"
   },
   "outputs": [],
   "source": [
    "GT_JSON = './detection_backup/dataset/train.json'\n",
    "PRED_CSV = './submission_latest.csv'\n",
    "\n",
    "# load ground truth\n",
    "with open(GT_JSON, 'r') as outfile:\n",
    "    test_anno = (json.load(outfile))\n",
    "\n",
    "# load prediction\n",
    "pred_df = pd.read_csv(PRED_CSV)"
   ]
  },
  {
   "cell_type": "code",
   "execution_count": 4,
   "id": "52abebcc",
   "metadata": {
    "id": "52abebcc"
   },
   "outputs": [
    {
     "name": "stderr",
     "output_type": "stream",
     "text": [
      "4883it [00:03, 1545.23it/s]\n"
     ]
    }
   ],
   "source": [
    "'''\n",
    "[\n",
    "    [file_name 1, confidence_score, x_min, x_max, y_min, y_max], \n",
    "    [file_name 2 confidence_score, x_min, x_max, y_min, y_max],\n",
    "    ,,,\n",
    "    [file_name , confidence_score, x_min, x_max, y_min, y_max]\n",
    "]\n",
    "'''\n",
    "\n",
    "new_pred = []\n",
    "\n",
    "file_names = pred_df['image_id'].values.tolist()\n",
    "bboxes = pred_df['PredictionString'].values.tolist()\n",
    "\n",
    "'''\n",
    "TODO create new_pred\n",
    "'''\n",
    "for i, bbox in enumerate(bboxes):\n",
    "    if isinstance(bbox, float):\n",
    "        print(f'{file_names[i]} empty box')\n",
    "\n",
    "for file_name, bbox in tqdm(zip(file_names, bboxes)):\n",
    "    boxes = np.array(str(bbox).split(' '))\n",
    "    \n",
    "    if len(boxes) % 6 == 1:\n",
    "        boxes = boxes[:-1].reshape(-1, 6)\n",
    "    elif len(boxes) % 6 == 0:\n",
    "        boxes = boxes.reshape(-1, 6)\n",
    "    else:\n",
    "        raise Exception('error', 'invalid box count')\n",
    "    for box in boxes:\n",
    "        new_pred.append([file_name, box[0], box[1], float(box[2]), float(box[4]), float(box[3]), float(box[5])])"
   ]
  },
  {
   "cell_type": "code",
   "execution_count": 5,
   "id": "f5fa6ff0",
   "metadata": {
    "id": "f5fa6ff0"
   },
   "outputs": [
    {
     "name": "stdout",
     "output_type": "stream",
     "text": [
      "loading annotations into memory...\n",
      "Done (t=0.12s)\n",
      "creating index...\n",
      "index created!\n"
     ]
    }
   ],
   "source": [
    "'''\n",
    "[\n",
    "    [file_name 1, confidence_score, x_min, x_max, y_min, y_max], \n",
    "    [file_name 2, confidence_score, x_min, x_max, y_min, y_max],\n",
    "    ,,,\n",
    "    [file_name , confidence_score, x_min, x_max, y_min, y_max]\n",
    "]\n",
    "'''\n",
    "    \n",
    "gt = []\n",
    "    \n",
    "   \n",
    "'''\n",
    "coco.getImgIds(): return image id list\n",
    "    \n",
    "coco.loadImgs(image_id): return image_info\n",
    "    \n",
    "image_info['file_name']: return file name\n",
    "   \n",
    "coco.getAnnIds(imgIds=image_info['id']): return annotation id\n",
    "    \n",
    "coco.loadAnns(ann_ids): return annotation information list (annotation_info_list)\n",
    "    \n",
    "annotation_info_list[i]['bbox']: return i'th annotation [x_min, y_min, w, h]\n",
    "    \n",
    "annotation_info_list[i]['category_id']: return i'th annotation category\n",
    "    \n",
    "'''\n",
    "coco = COCO(GT_JSON)\n",
    "\n",
    "'''\n",
    "TODO create gt\n",
    "'''\n",
    "for image_id in coco.getImgIds():\n",
    "        \n",
    "    image_info = coco.loadImgs(image_id)[0]\n",
    "    annotation_id = coco.getAnnIds(imgIds=image_info['id'])\n",
    "    annotation_info_list = coco.loadAnns(annotation_id)\n",
    "        \n",
    "    file_name = image_info['file_name']\n",
    "        \n",
    "    for annotation in annotation_info_list:\n",
    "        gt.append([file_name, annotation['category_id'],\n",
    "                   float(annotation['bbox'][0]),\n",
    "                   float(annotation['bbox'][0]) + float(annotation['bbox'][2]),\n",
    "                   float(annotation['bbox'][1]),\n",
    "                   (float(annotation['bbox'][1]) + float(annotation['bbox'][3]))])"
   ]
  },
  {
   "cell_type": "code",
   "execution_count": 6,
   "id": "aad140ce-280a-43cd-b56c-83d858ac46d5",
   "metadata": {},
   "outputs": [
    {
     "name": "stdout",
     "output_type": "stream",
     "text": [
      "['train/0000.jpg', 0, 197.6, 745.4, 193.7, 663.4]\n",
      "['train/0001.jpg', 3, 0.0, 57.6, 407.4, 588.0]\n",
      "['train/0001.jpg', 7, 0.0, 144.6, 455.6, 637.2]\n",
      "['train/0001.jpg', 4, 722.3, 996.5999999999999, 313.4, 565.3]\n",
      "['train/0001.jpg', 5, 353.2, 586.9, 671.0, 774.4]\n",
      "['train/0001.jpg', 5, 3.7, 781.9000000000001, 448.5, 690.5]\n",
      "['train/0001.jpg', 0, 425.3, 641.7, 681.9, 861.7]\n",
      "['train/0001.jpg', 7, 92.4, 231.6, 601.7, 654.8000000000001]\n",
      "['train/0001.jpg', 0, 622.4, 695.1999999999999, 686.5, 780.7]\n",
      "['train/0002.jpg', 3, 267.9, 899.5, 165.2, 678.2]\n"
     ]
    }
   ],
   "source": [
    "num = 0\n",
    "for line in gt:\n",
    "    print(line)\n",
    "    num += 1\n",
    "    if num >= 10:\n",
    "        break"
   ]
  },
  {
   "cell_type": "code",
   "execution_count": 10,
   "id": "3a44cd12-81e0-4fe2-b3cb-234137c20975",
   "metadata": {},
   "outputs": [
    {
     "name": "stdout",
     "output_type": "stream",
     "text": [
      "488300\n",
      "['train/0000.jpg', '8', '0.10807686', 224.83769, 240.25734, 512.94183, 587.07587]\n",
      "['train/0000.jpg', '8', '0.108024135', 233.01276, 248.53638, 513.02966, 587.18176]\n",
      "['train/0000.jpg', '8', '0.10798689', 227.17767, 282.98053, 246.45956, 419.197]\n",
      "['train/0000.jpg', '8', '0.107746646', 273.6042, 329.43738, 279.79297, 453.17218]\n",
      "['train/0000.jpg', '8', '0.10760053', 255.16011, 270.89148, 503.88446, 579.74835]\n",
      "['train/0000.jpg', '8', '0.10756916', 368.22604, 384.1832, 527.4729, 603.26465]\n",
      "['train/0000.jpg', '8', '0.107542284', 431.5567, 447.31384, 573.6112, 649.9646]\n",
      "['train/0000.jpg', '8', '0.10750076', 440.26657, 455.83853, 581.74396, 658.79803]\n",
      "['train/0000.jpg', '8', '0.107491575', 97.862175, 152.98077, 423.45016, 594.316]\n",
      "['train/0000.jpg', '8', '0.10742503', 294.9772, 310.51804, 503.92453, 580.4899]\n",
      "['train/0000.jpg', '8', '0.107387014', 114.79584, 169.43515, 248.08539, 420.57758]\n",
      "['train/0000.jpg', '8', '0.10736487', 163.41309, 218.61249, 374.8345, 544.1007]\n",
      "['train/0000.jpg', '8', '0.10734759', 386.61957, 442.3988, 519.05206, 693.0192]\n",
      "['train/0000.jpg', '8', '0.107342295', 376.39407, 392.2335, 534.7815, 610.8794]\n",
      "['train/0000.jpg', '8', '0.107332274', 240.23766, 255.95451, 512.8246, 586.074]\n",
      "['train/0000.jpg', '8', '0.10732986', 242.12465, 297.7578, 214.2467, 387.11713]\n",
      "['train/0000.jpg', '8', '0.10732718', 130.32314, 185.6999, 150.50598, 321.818]\n",
      "['train/0000.jpg', '8', '0.10732412', 319.84497, 335.64215, 511.6784, 588.1126]\n",
      "['train/0000.jpg', '8', '0.10731035', 209.99446, 265.14694, 232.04199, 403.82465]\n",
      "['train/0000.jpg', '8', '0.107307166', 145.2433, 200.12086, 341.9276, 513.6506]\n",
      "['train/0000.jpg', '8', '0.10730007', 161.07835, 215.89677, 168.58157, 338.52316]\n",
      "['train/0000.jpg', '8', '0.10729111', 163.12338, 217.63501, 536.6465, 706.9569]\n",
      "['train/0000.jpg', '8', '0.10728099', 344.77704, 360.66736, 520.39813, 596.54474]\n",
      "['train/0000.jpg', '8', '0.10727348', 407.47693, 423.807, 573.9304, 650.121]\n",
      "['train/0000.jpg', '8', '0.1072734', 258.20935, 314.19727, 451.74313, 625.98895]\n",
      "['train/0000.jpg', '8', '0.10726853', 258.3971, 313.5905, 183.8411, 354.15805]\n",
      "['train/0000.jpg', '8', '0.10726716', 384.24344, 400.16, 534.62427, 610.1594]\n",
      "['train/0000.jpg', '8', '0.107260644', 146.50679, 202.0504, 425.70575, 596.41766]\n",
      "['train/0000.jpg', '8', '0.10725611', 279.84515, 295.5384, 494.90646, 572.65454]\n",
      "['train/0000.jpg', '8', '0.107250445', 275.2665, 330.8843, 710.3145, 883.9771]\n"
     ]
    }
   ],
   "source": [
    "num = 0\n",
    "print(len(new_pred))\n",
    "for line in new_pred:\n",
    "    print(line)\n",
    "    num += 1\n",
    "    if num >= 30:\n",
    "        break"
   ]
  },
  {
   "cell_type": "code",
   "execution_count": 11,
   "id": "8707b613",
   "metadata": {
    "id": "8707b613"
   },
   "outputs": [
    {
     "name": "stdout",
     "output_type": "stream",
     "text": [
      "Number of files in annotations: 4883\n",
      "Number of files in predictions: 4883\n",
      "Unique classes: 10\n",
      "Detections length: 4883\n",
      "Annotations length: 4883\n",
      "0                              | 0.000000 |    3966\n",
      "1                              | 0.000000 |    6352\n",
      "2                              | 0.000000 |     897\n",
      "3                              | 0.000000 |     936\n",
      "4                              | 0.000000 |     982\n",
      "5                              | 0.000000 |    2943\n",
      "6                              | 0.000000 |    1263\n",
      "7                              | 0.000000 |    5178\n",
      "8                              | 0.000000 |     159\n",
      "9                              | 0.000000 |     468\n",
      "mAP: 0.000000\n",
      "0.0\n"
     ]
    }
   ],
   "source": [
    "'''\n",
    "calculate mAP\n",
    "'''\n",
    "\n",
    "'''\n",
    "Special mission you sould create mean_average_precision_for_boxes function, not library\n",
    "'''\n",
    "\n",
    "mean_ap, average_precisions = mean_average_precision_for_boxes(gt, new_pred, iou_threshold=0.5)\n",
    "\n",
    "print(mean_ap)"
   ]
  },
  {
   "cell_type": "code",
   "execution_count": null,
   "id": "7e9874e6",
   "metadata": {
    "id": "7e9874e6"
   },
   "outputs": [],
   "source": []
  }
 ],
 "metadata": {
  "colab": {
   "name": "metric_skeleton.ipynb",
   "provenance": []
  },
  "kernelspec": {
   "display_name": "Python 3 (ipykernel)",
   "language": "python",
   "name": "python3"
  },
  "language_info": {
   "codemirror_mode": {
    "name": "ipython",
    "version": 3
   },
   "file_extension": ".py",
   "mimetype": "text/x-python",
   "name": "python",
   "nbconvert_exporter": "python",
   "pygments_lexer": "ipython3",
   "version": "3.7.11"
  }
 },
 "nbformat": 4,
 "nbformat_minor": 5
}
