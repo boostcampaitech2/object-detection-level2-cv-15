{
 "cells": [
  {
   "cell_type": "code",
   "execution_count": 1,
   "id": "2f5bc891",
   "metadata": {
    "id": "2f5bc891"
   },
   "outputs": [],
   "source": [
    "# !pip install map_boxes\n",
    "# !pip install tqdm\n",
    "# !pip install pycocotools"
   ]
  },
  {
   "cell_type": "code",
   "execution_count": 1,
   "id": "8377b5e0",
   "metadata": {
    "id": "8377b5e0"
   },
   "outputs": [],
   "source": [
    "from map_boxes import mean_average_precision_for_boxes\n",
    "import pandas as pd\n",
    "import numpy as np\n",
    "import json\n",
    "from tqdm import tqdm\n",
    "from pycocotools.coco import COCO"
   ]
  },
  {
   "cell_type": "code",
   "execution_count": 5,
   "id": "bb2a5373",
   "metadata": {
    "id": "bb2a5373"
   },
   "outputs": [],
   "source": [
    "GT_JSON = '../dataset/train.json'\n",
    "PRED_CSV = './work_dirs/inference/submission_latest_train.csv'\n",
    "\n",
    "# load ground truth\n",
    "with open(GT_JSON, 'r') as outfile:\n",
    "    test_anno = (json.load(outfile))\n",
    "\n",
    "# load prediction\n",
    "pred_df = pd.read_csv(PRED_CSV)"
   ]
  },
  {
   "cell_type": "code",
   "execution_count": 6,
   "id": "52abebcc",
   "metadata": {
    "id": "52abebcc"
   },
   "outputs": [
    {
     "name": "stdout",
     "output_type": "stream",
     "text": [
      "train/1074.jpg empty box\n",
      "train/2934.jpg empty box\n",
      "train/3531.jpg empty box\n",
      "train/4797.jpg empty box\n"
     ]
    },
    {
     "name": "stderr",
     "output_type": "stream",
     "text": [
      "4883it [00:00, 15219.55it/s]\n"
     ]
    }
   ],
   "source": [
    "'''\n",
    "[\n",
    "    [file_name 1, confidence_score, x_min, x_max, y_min, y_max], \n",
    "    [file_name 2 confidence_score, x_min, x_max, y_min, y_max],\n",
    "    ,,,\n",
    "    [file_name , confidence_score, x_min, x_max, y_min, y_max]\n",
    "]\n",
    "'''\n",
    "\n",
    "new_pred = []\n",
    "\n",
    "file_names = pred_df['image_id'].values.tolist()\n",
    "bboxes = pred_df['PredictionString'].values.tolist()\n",
    "\n",
    "'''\n",
    "TODO create new_pred\n",
    "'''\n",
    "for i, bbox in enumerate(bboxes):\n",
    "    if isinstance(bbox, float):\n",
    "        print(f'{file_names[i]} empty box')\n",
    "\n",
    "for file_name, bbox in tqdm(zip(file_names, bboxes)):\n",
    "    boxes = np.array(str(bbox).split(' '))\n",
    "    \n",
    "    if len(boxes) % 6 == 1:\n",
    "        boxes = boxes[:-1].reshape(-1, 6)\n",
    "    elif len(boxes) % 6 == 0:\n",
    "        boxes = boxes.reshape(-1, 6)\n",
    "    else:\n",
    "        raise Exception('error', 'invalid box count')\n",
    "    for box in boxes:\n",
    "        new_pred.append([file_name, box[0], box[1], float(box[2]), float(box[4]), float(box[3]), float(box[5])])"
   ]
  },
  {
   "cell_type": "code",
   "execution_count": 7,
   "id": "f5fa6ff0",
   "metadata": {
    "id": "f5fa6ff0"
   },
   "outputs": [
    {
     "name": "stdout",
     "output_type": "stream",
     "text": [
      "loading annotations into memory...\n",
      "Done (t=0.16s)\n",
      "creating index...\n",
      "index created!\n"
     ]
    }
   ],
   "source": [
    "'''\n",
    "[\n",
    "    [file_name 1, confidence_score, x_min, x_max, y_min, y_max], \n",
    "    [file_name 2, confidence_score, x_min, x_max, y_min, y_max],\n",
    "    ,,,\n",
    "    [file_name , confidence_score, x_min, x_max, y_min, y_max]\n",
    "]\n",
    "'''\n",
    "    \n",
    "gt = []\n",
    "    \n",
    "   \n",
    "'''\n",
    "coco.getImgIds(): return image id list\n",
    "    \n",
    "coco.loadImgs(image_id): return image_info\n",
    "    \n",
    "image_info['file_name']: return file name\n",
    "   \n",
    "coco.getAnnIds(imgIds=image_info['id']): return annotation id\n",
    "    \n",
    "coco.loadAnns(ann_ids): return annotation information list (annotation_info_list)\n",
    "    \n",
    "annotation_info_list[i]['bbox']: return i'th annotation [x_min, y_min, w, h]\n",
    "    \n",
    "annotation_info_list[i]['category_id']: return i'th annotation category\n",
    "    \n",
    "'''\n",
    "coco = COCO(GT_JSON)\n",
    "\n",
    "'''\n",
    "TODO create gt\n",
    "'''\n",
    "for image_id in coco.getImgIds():\n",
    "        \n",
    "    image_info = coco.loadImgs(image_id)[0]\n",
    "    annotation_id = coco.getAnnIds(imgIds=image_info['id'])\n",
    "    annotation_info_list = coco.loadAnns(annotation_id)\n",
    "        \n",
    "    file_name = image_info['file_name']\n",
    "        \n",
    "    for annotation in annotation_info_list:\n",
    "        gt.append([file_name, annotation['category_id'],\n",
    "                   float(annotation['bbox'][0]),\n",
    "                   float(annotation['bbox'][0]) + float(annotation['bbox'][2]),\n",
    "                   float(annotation['bbox'][1]),\n",
    "                   (float(annotation['bbox'][1]) + float(annotation['bbox'][3]))])"
   ]
  },
  {
   "cell_type": "code",
   "execution_count": 8,
   "id": "aad140ce-280a-43cd-b56c-83d858ac46d5",
   "metadata": {},
   "outputs": [
    {
     "name": "stdout",
     "output_type": "stream",
     "text": [
      "['train/0000.jpg', 0, 197.6, 745.4, 193.7, 663.4]\n",
      "['train/0001.jpg', 3, 0.0, 57.6, 407.4, 588.0]\n",
      "['train/0001.jpg', 7, 0.0, 144.6, 455.6, 637.2]\n",
      "['train/0001.jpg', 4, 722.3, 996.5999999999999, 313.4, 565.3]\n",
      "['train/0001.jpg', 5, 353.2, 586.9, 671.0, 774.4]\n",
      "['train/0001.jpg', 5, 3.7, 781.9000000000001, 448.5, 690.5]\n",
      "['train/0001.jpg', 0, 425.3, 641.7, 681.9, 861.7]\n",
      "['train/0001.jpg', 7, 92.4, 231.6, 601.7, 654.8000000000001]\n",
      "['train/0001.jpg', 0, 622.4, 695.1999999999999, 686.5, 780.7]\n",
      "['train/0002.jpg', 3, 267.9, 899.5, 165.2, 678.2]\n"
     ]
    }
   ],
   "source": [
    "num = 0\n",
    "for line in gt:\n",
    "    print(line)\n",
    "    num += 1\n",
    "    if num >= 10:\n",
    "        break"
   ]
  },
  {
   "cell_type": "code",
   "execution_count": 9,
   "id": "3a44cd12-81e0-4fe2-b3cb-234137c20975",
   "metadata": {},
   "outputs": [
    {
     "name": "stdout",
     "output_type": "stream",
     "text": [
      "53842\n",
      "['train/0000.jpg', '0', '0.9992021', 200.04388, 750.5028, 207.39702, 652.95264]\n",
      "['train/0001.jpg', '0', '0.1588794', 439.11758, 612.4051, 657.2247, 837.45966]\n",
      "['train/0001.jpg', '0', '0.13805239', 0.0, 637.144, 654.70734, 799.6977]\n",
      "['train/0001.jpg', '0', '0.08915845', 28.492554, 735.2932, 436.4892, 866.47894]\n",
      "['train/0001.jpg', '0', '0.08857824', 53.781708, 121.13614, 456.5244, 513.9229]\n",
      "['train/0001.jpg', '0', '0.07964049', 83.552345, 216.9625, 600.23596, 645.4077]\n",
      "['train/0001.jpg', '0', '0.06593207', 363.41174, 618.9644, 662.66016, 779.15173]\n",
      "['train/0001.jpg', '0', '0.053400178', 6.4631157, 117.43877, 593.0435, 638.8979]\n",
      "['train/0001.jpg', '0', '0.052029047', 0.0, 629.5227, 621.1637, 925.83167]\n",
      "['train/0001.jpg', '3', '0.18999475', 0.0, 787.2312, 443.0485, 704.09973]\n",
      "['train/0001.jpg', '3', '0.18419297', 53.171124, 120.43489, 456.20453, 515.4685]\n",
      "['train/0001.jpg', '3', '0.11646549', 727.8333, 982.76556, 295.70886, 559.3394]\n",
      "['train/0001.jpg', '3', '0.08080598', 9.572968, 742.9762, 435.63315, 983.7588]\n",
      "['train/0001.jpg', '3', '0.059468724', 6.4631157, 117.43877, 593.0435, 638.8979]\n",
      "['train/0001.jpg', '4', '0.8009216', 729.2266, 979.8305, 296.88293, 557.62335]\n",
      "['train/0001.jpg', '4', '0.114902556', 0.0, 787.2312, 443.0485, 704.09973]\n",
      "['train/0001.jpg', '5', '0.6117438', 33.965088, 783.5362, 439.8722, 708.37085]\n",
      "['train/0001.jpg', '5', '0.16719301', 728.88696, 975.83936, 300.61935, 552.6764]\n",
      "['train/0001.jpg', '5', '0.12532797', 359.0254, 607.61456, 664.46295, 755.02814]\n",
      "['train/0001.jpg', '5', '0.09838118', 377.5704, 629.1138, 653.34454, 821.5844]\n",
      "['train/0001.jpg', '5', '0.08783786', 0.0, 637.144, 654.70734, 799.6977]\n",
      "['train/0001.jpg', '5', '0.07369169', 53.171124, 120.43489, 456.20453, 515.4685]\n",
      "['train/0001.jpg', '5', '0.070184484', 0.0, 683.999, 571.0987, 878.4107]\n",
      "['train/0001.jpg', '8', '0.16412473', 0.0, 785.98364, 444.30646, 697.66705]\n",
      "['train/0001.jpg', '9', '0.09084953', 0.0, 637.144, 654.70734, 799.6977]\n",
      "['train/0002.jpg', '3', '0.99311584', 263.3841, 917.29474, 161.14302, 672.0802]\n",
      "['train/0003.jpg', '0', '0.189816', 768.6264, 971.5118, 0.0, 442.57568]\n",
      "['train/0003.jpg', '0', '0.16016318', 454.14474, 692.2605, 376.78632, 620.46796]\n",
      "['train/0003.jpg', '1', '0.72734016', 457.3944, 693.0746, 371.51706, 624.08014]\n",
      "['train/0003.jpg', '2', '0.5661058', 457.11462, 692.83386, 372.29993, 623.91565]\n"
     ]
    }
   ],
   "source": [
    "num = 0\n",
    "print(len(new_pred))\n",
    "for line in new_pred:\n",
    "    print(line)\n",
    "    num += 1\n",
    "    if num >= 30:\n",
    "        break"
   ]
  },
  {
   "cell_type": "code",
   "execution_count": 10,
   "id": "8707b613",
   "metadata": {
    "id": "8707b613"
   },
   "outputs": [
    {
     "name": "stdout",
     "output_type": "stream",
     "text": [
      "Number of files in annotations: 4883\n",
      "Number of files in predictions: 4879\n",
      "Unique classes: 10\n",
      "Detections length: 4879\n",
      "Annotations length: 4883\n",
      "0                              | 0.291952 |    3966\n",
      "1                              | 0.451993 |    6352\n",
      "2                              | 0.476473 |     897\n",
      "3                              | 0.471222 |     936\n",
      "4                              | 0.509675 |     982\n",
      "5                              | 0.403078 |    2943\n",
      "6                              | 0.446528 |    1263\n",
      "7                              | 0.645876 |    5178\n",
      "8                              | 0.560151 |     159\n",
      "9                              | 0.528854 |     468\n",
      "mAP: 0.478580\n",
      "0.47858027400951386\n"
     ]
    }
   ],
   "source": [
    "'''\n",
    "calculate mAP\n",
    "'''\n",
    "\n",
    "'''\n",
    "Special mission you sould create mean_average_precision_for_boxes function, not library\n",
    "'''\n",
    "\n",
    "mean_ap, average_precisions = mean_average_precision_for_boxes(gt, new_pred, iou_threshold=0.5)\n",
    "\n",
    "print(mean_ap)"
   ]
  },
  {
   "cell_type": "code",
   "execution_count": null,
   "id": "7e9874e6",
   "metadata": {
    "id": "7e9874e6"
   },
   "outputs": [],
   "source": []
  }
 ],
 "metadata": {
  "colab": {
   "name": "metric_skeleton.ipynb",
   "provenance": []
  },
  "kernelspec": {
   "display_name": "Python 3 (ipykernel)",
   "language": "python",
   "name": "python3"
  },
  "language_info": {
   "codemirror_mode": {
    "name": "ipython",
    "version": 3
   },
   "file_extension": ".py",
   "mimetype": "text/x-python",
   "name": "python",
   "nbconvert_exporter": "python",
   "pygments_lexer": "ipython3",
   "version": "3.7.11"
  }
 },
 "nbformat": 4,
 "nbformat_minor": 5
}
