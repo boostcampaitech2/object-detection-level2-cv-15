{
 "cells": [
  {
   "cell_type": "code",
   "execution_count": 2,
   "id": "6734822f-1326-49d0-999b-858c69e54d74",
   "metadata": {},
   "outputs": [],
   "source": [
    "import torch\n",
    "from ensemble_boxes import *\n",
    "\n",
    "device = torch.device('cuda:0')"
   ]
  },
  {
   "cell_type": "code",
   "execution_count": 3,
   "id": "f1b4e1aa-bb0f-4205-9084-22dd755874eb",
   "metadata": {},
   "outputs": [],
   "source": [
    "def make_ensemble_predictions(images):\n",
    "    images = list(image.to(device) for image in images)    \n",
    "    result = []\n",
    "    for net in models:\n",
    "        outputs = net(images)\n",
    "        result.append(outputs)\n",
    "    return result"
   ]
  },
  {
   "cell_type": "code",
   "execution_count": 4,
   "id": "b887b274-425b-497e-abfc-dbb8e32897a6",
   "metadata": {},
   "outputs": [],
   "source": [
    "def run_wbf(predictions, image_index, image_size=512, iou_thr=0.55, skip_box_thr=0.7, weights=None):\n",
    "    boxes = [prediction[image_index]['boxes'].data.cpu().numpy()/(image_size-1) for prediction in predictions]\n",
    "    scores = [prediction[image_index]['scores'].data.cpu().numpy() for prediction in predictions]\n",
    "    labels = [np.ones(prediction[image_index]['scores'].shape[0]) for prediction in predictions]\n",
    "    boxes, scores, labels = weighted_boxes_fusion(boxes, scores, labels, weights=None, iou_thr=iou_thr, skip_box_thr=skip_box_thr)\n",
    "    boxes = boxes*(image_size-1)\n",
    "    return boxes, scores, labels"
   ]
  },
  {
   "cell_type": "code",
   "execution_count": null,
   "id": "012c7ea0-156a-4719-be4a-eb1783c9a754",
   "metadata": {},
   "outputs": [],
   "source": [
    "import matplotlib.pyplot as plt\n",
    "\n",
    "for j, (images, image_ids) in enumerate(data_loader):\n",
    "    if j > 0:\n",
    "        break\n",
    "predictions = make_ensemble_predictions(images)\n",
    "\n",
    "i = 1\n",
    "sample = images[i].permute(1,2,0).cpu().numpy()\n",
    "boxes, scores, labels = run_wbf(predictions, image_index=i)\n",
    "boxes = boxes.astype(np.int32).clip(min=0, max=511)\n",
    "\n",
    "fig, ax = plt.subplots(1, 1, figsize=(16, 8))\n",
    "\n",
    "for box in boxes:\n",
    "    cv2.rectangle(sample,\n",
    "                  (box[0], box[1]),\n",
    "                  (box[2], box[3]),\n",
    "                  (220, 0, 0), 2)\n",
    "    \n",
    "ax.set_axis_off()\n",
    "ax.imshow(sample);"
   ]
  },
  {
   "cell_type": "code",
   "execution_count": null,
   "id": "5bc748ec-6860-46f4-a406-b505ce97930c",
   "metadata": {},
   "outputs": [],
   "source": []
  },
  {
   "cell_type": "code",
   "execution_count": null,
   "id": "51dde309-3aea-4ca6-8381-ae689e12b4c7",
   "metadata": {},
   "outputs": [],
   "source": []
  }
 ],
 "metadata": {
  "kernelspec": {
   "display_name": "Python 3 (ipykernel)",
   "language": "python",
   "name": "python3"
  },
  "language_info": {
   "codemirror_mode": {
    "name": "ipython",
    "version": 3
   },
   "file_extension": ".py",
   "mimetype": "text/x-python",
   "name": "python",
   "nbconvert_exporter": "python",
   "pygments_lexer": "ipython3",
   "version": "3.7.11"
  }
 },
 "nbformat": 4,
 "nbformat_minor": 5
}
