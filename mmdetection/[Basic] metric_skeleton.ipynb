{
 "cells": [
  {
   "cell_type": "code",
   "execution_count": 1,
   "id": "2f5bc891",
   "metadata": {
    "id": "2f5bc891"
   },
   "outputs": [],
   "source": [
    "# !pip install map_boxes\n",
    "# !pip install tqdm\n",
    "# !pip install pycocotools"
   ]
  },
  {
   "cell_type": "code",
   "execution_count": 1,
   "id": "8377b5e0",
   "metadata": {
    "id": "8377b5e0"
   },
   "outputs": [],
   "source": [
    "from map_boxes import mean_average_precision_for_boxes\n",
    "import pandas as pd\n",
    "import numpy as np\n",
    "import json\n",
    "from tqdm import tqdm\n",
    "from pycocotools.coco import COCO"
   ]
  },
  {
   "cell_type": "code",
   "execution_count": 2,
   "id": "bb2a5373",
   "metadata": {
    "id": "bb2a5373"
   },
   "outputs": [],
   "source": [
    "GT_JSON = '../dataset/train.json'\n",
    "PRED_CSV = './work_dirs/inference/submission_epoch_48_train.csv'\n",
    "\n",
    "# load ground truth\n",
    "with open(GT_JSON, 'r') as outfile:\n",
    "    test_anno = (json.load(outfile))\n",
    "\n",
    "# load prediction\n",
    "pred_df = pd.read_csv(PRED_CSV)"
   ]
  },
  {
   "cell_type": "code",
   "execution_count": 3,
   "id": "52abebcc",
   "metadata": {
    "id": "52abebcc"
   },
   "outputs": [
    {
     "name": "stderr",
     "output_type": "stream",
     "text": [
      "4883it [00:00, 16923.88it/s]\n"
     ]
    }
   ],
   "source": [
    "'''\n",
    "[\n",
    "    [file_name 1, confidence_score, x_min, x_max, y_min, y_max], \n",
    "    [file_name 2 confidence_score, x_min, x_max, y_min, y_max],\n",
    "    ,,,\n",
    "    [file_name , confidence_score, x_min, x_max, y_min, y_max]\n",
    "]\n",
    "'''\n",
    "\n",
    "new_pred = []\n",
    "\n",
    "file_names = pred_df['image_id'].values.tolist()\n",
    "bboxes = pred_df['PredictionString'].values.tolist()\n",
    "\n",
    "'''\n",
    "TODO create new_pred\n",
    "'''\n",
    "for i, bbox in enumerate(bboxes):\n",
    "    if isinstance(bbox, float):\n",
    "        print(f'{file_names[i]} empty box')\n",
    "\n",
    "for file_name, bbox in tqdm(zip(file_names, bboxes)):\n",
    "    boxes = np.array(str(bbox).split(' '))\n",
    "    \n",
    "    if len(boxes) % 6 == 1:\n",
    "        boxes = boxes[:-1].reshape(-1, 6)\n",
    "    elif len(boxes) % 6 == 0:\n",
    "        boxes = boxes.reshape(-1, 6)\n",
    "    else:\n",
    "        raise Exception('error', 'invalid box count')\n",
    "    for box in boxes:\n",
    "        new_pred.append([file_name, box[0], box[1], float(box[2]), float(box[4]), float(box[3]), float(box[5])])"
   ]
  },
  {
   "cell_type": "code",
   "execution_count": 4,
   "id": "f5fa6ff0",
   "metadata": {
    "id": "f5fa6ff0"
   },
   "outputs": [
    {
     "name": "stdout",
     "output_type": "stream",
     "text": [
      "loading annotations into memory...\n",
      "Done (t=0.17s)\n",
      "creating index...\n",
      "index created!\n"
     ]
    }
   ],
   "source": [
    "'''\n",
    "[\n",
    "    [file_name 1, confidence_score, x_min, x_max, y_min, y_max], \n",
    "    [file_name 2, confidence_score, x_min, x_max, y_min, y_max],\n",
    "    ,,,\n",
    "    [file_name , confidence_score, x_min, x_max, y_min, y_max]\n",
    "]\n",
    "'''\n",
    "    \n",
    "gt = []\n",
    "    \n",
    "   \n",
    "'''\n",
    "coco.getImgIds(): return image id list\n",
    "    \n",
    "coco.loadImgs(image_id): return image_info\n",
    "    \n",
    "image_info['file_name']: return file name\n",
    "   \n",
    "coco.getAnnIds(imgIds=image_info['id']): return annotation id\n",
    "    \n",
    "coco.loadAnns(ann_ids): return annotation information list (annotation_info_list)\n",
    "    \n",
    "annotation_info_list[i]['bbox']: return i'th annotation [x_min, y_min, w, h]\n",
    "    \n",
    "annotation_info_list[i]['category_id']: return i'th annotation category\n",
    "    \n",
    "'''\n",
    "coco = COCO(GT_JSON)\n",
    "\n",
    "'''\n",
    "TODO create gt\n",
    "'''\n",
    "for image_id in coco.getImgIds():\n",
    "        \n",
    "    image_info = coco.loadImgs(image_id)[0]\n",
    "    annotation_id = coco.getAnnIds(imgIds=image_info['id'])\n",
    "    annotation_info_list = coco.loadAnns(annotation_id)\n",
    "        \n",
    "    file_name = image_info['file_name']\n",
    "        \n",
    "    for annotation in annotation_info_list:\n",
    "        gt.append([file_name, annotation['category_id'],\n",
    "                   float(annotation['bbox'][0]),\n",
    "                   float(annotation['bbox'][0]) + float(annotation['bbox'][2]),\n",
    "                   float(annotation['bbox'][1]),\n",
    "                   (float(annotation['bbox'][1]) + float(annotation['bbox'][3]))])"
   ]
  },
  {
   "cell_type": "code",
   "execution_count": 5,
   "id": "aad140ce-280a-43cd-b56c-83d858ac46d5",
   "metadata": {},
   "outputs": [
    {
     "name": "stdout",
     "output_type": "stream",
     "text": [
      "['train/0000.jpg', 0, 197.6, 745.4, 193.7, 663.4]\n",
      "['train/0001.jpg', 3, 0.0, 57.6, 407.4, 588.0]\n",
      "['train/0001.jpg', 7, 0.0, 144.6, 455.6, 637.2]\n",
      "['train/0001.jpg', 4, 722.3, 996.5999999999999, 313.4, 565.3]\n",
      "['train/0001.jpg', 5, 353.2, 586.9, 671.0, 774.4]\n",
      "['train/0001.jpg', 5, 3.7, 781.9000000000001, 448.5, 690.5]\n",
      "['train/0001.jpg', 0, 425.3, 641.7, 681.9, 861.7]\n",
      "['train/0001.jpg', 7, 92.4, 231.6, 601.7, 654.8000000000001]\n",
      "['train/0001.jpg', 0, 622.4, 695.1999999999999, 686.5, 780.7]\n",
      "['train/0002.jpg', 3, 267.9, 899.5, 165.2, 678.2]\n"
     ]
    }
   ],
   "source": [
    "num = 0\n",
    "for line in gt:\n",
    "    print(line)\n",
    "    num += 1\n",
    "    if num >= 10:\n",
    "        break"
   ]
  },
  {
   "cell_type": "code",
   "execution_count": 6,
   "id": "3a44cd12-81e0-4fe2-b3cb-234137c20975",
   "metadata": {},
   "outputs": [
    {
     "name": "stdout",
     "output_type": "stream",
     "text": [
      "50778\n",
      "['train/0000.jpg', '0', '0.9999628', 198.51425, 766.6421, 209.66875, 660.0632]\n",
      "['train/0001.jpg', '0', '0.947628', 91.74872, 227.90884, 596.2254, 655.86017]\n",
      "['train/0001.jpg', '0', '0.9416905', 430.87857, 631.49805, 685.6425, 856.11786]\n",
      "['train/0001.jpg', '0', '0.26931238', 5.8422546, 134.04042, 463.8631, 613.9615]\n",
      "['train/0001.jpg', '0', '0.22473072', 2.1472187, 60.9804, 384.6396, 593.5803]\n",
      "['train/0001.jpg', '0', '0.15670538', 610.7492, 675.5395, 696.95667, 797.91284]\n",
      "['train/0001.jpg', '0', '0.05740051', 53.644672, 144.05804, 455.85324, 510.4683]\n",
      "['train/0001.jpg', '1', '0.1272443', 26.08231, 140.52888, 460.0509, 598.1904]\n",
      "['train/0001.jpg', '1', '0.08180946', 18.94104, 786.7562, 453.05133, 695.7972]\n",
      "['train/0001.jpg', '3', '0.09116503', 18.94104, 786.7562, 453.05133, 695.7972]\n",
      "['train/0001.jpg', '3', '0.058742765', 1.3517132, 47.58043, 381.01163, 609.19763]\n",
      "['train/0001.jpg', '4', '0.99884415', 721.458, 991.3627, 312.6988, 571.58923]\n",
      "['train/0001.jpg', '4', '0.13023937', 6.0120926, 142.52777, 461.48413, 606.7195]\n",
      "['train/0001.jpg', '5', '0.99550337', 22.297302, 790.2429, 453.86105, 695.24396]\n",
      "['train/0001.jpg', '5', '0.90024084', 361.75272, 590.9358, 667.925, 766.98224]\n",
      "['train/0001.jpg', '5', '0.4889036', 20.696228, 657.52094, 657.8517, 982.71936]\n",
      "['train/0001.jpg', '5', '0.43915287', 8.6032715, 810.81287, 440.44788, 1001.8165]\n",
      "['train/0001.jpg', '5', '0.32425207', 11.013069, 141.09946, 490.54678, 602.1387]\n",
      "['train/0001.jpg', '5', '0.25733653', 1.3517132, 47.58043, 381.01163, 609.19763]\n",
      "['train/0001.jpg', '5', '0.054622058', 0.98005295, 98.68184, 522.4768, 637.5558]\n",
      "['train/0001.jpg', '5', '0.05377476', 1.795433, 67.24037, 465.21872, 598.6847]\n",
      "['train/0001.jpg', '6', '0.054678798', 10.685814, 143.29639, 465.6577, 596.1207]\n",
      "['train/0001.jpg', '7', '0.9478145', 54.466423, 144.11179, 456.34665, 510.0493]\n",
      "['train/0001.jpg', '7', '0.93317795', 1.9069138, 98.33003, 573.9878, 636.9048]\n",
      "['train/0001.jpg', '7', '0.27576685', 4.707695, 141.86942, 451.83206, 616.2033]\n",
      "['train/0001.jpg', '7', '0.10311868', 90.39625, 228.0727, 596.7582, 655.9231]\n",
      "['train/0001.jpg', '9', '0.06435183', 90.76568, 228.50403, 596.2775, 655.91473]\n",
      "['train/0002.jpg', '3', '0.9490202', 254.02304, 901.6677, 156.52606, 678.2746]\n",
      "['train/0002.jpg', '7', '0.2428076', 252.3533, 901.32983, 156.7915, 677.9388]\n",
      "['train/0003.jpg', '2', '0.99880767', 463.6567, 698.7306, 369.9461, 606.72754]\n"
     ]
    }
   ],
   "source": [
    "num = 0\n",
    "print(len(new_pred))\n",
    "for line in new_pred:\n",
    "    print(line)\n",
    "    num += 1\n",
    "    if num >= 30:\n",
    "        break"
   ]
  },
  {
   "cell_type": "code",
   "execution_count": 7,
   "id": "8707b613",
   "metadata": {
    "id": "8707b613"
   },
   "outputs": [
    {
     "name": "stdout",
     "output_type": "stream",
     "text": [
      "Number of files in annotations: 4883\n",
      "Number of files in predictions: 4883\n",
      "Unique classes: 10\n",
      "Detections length: 4883\n",
      "Annotations length: 4883\n",
      "0                              | 0.654332 |    3966\n",
      "1                              | 0.685738 |    6352\n",
      "2                              | 0.827648 |     897\n",
      "3                              | 0.796489 |     936\n",
      "4                              | 0.828888 |     982\n",
      "5                              | 0.728368 |    2943\n",
      "6                              | 0.740184 |    1263\n",
      "7                              | 0.840874 |    5178\n",
      "8                              | 0.927311 |     159\n",
      "9                              | 0.885422 |     468\n",
      "mAP: 0.791525\n",
      "0.7915254396585354\n"
     ]
    }
   ],
   "source": [
    "'''\n",
    "calculate mAP\n",
    "'''\n",
    "\n",
    "'''\n",
    "Special mission you sould create mean_average_precision_for_boxes function, not library\n",
    "'''\n",
    "\n",
    "mean_ap, average_precisions = mean_average_precision_for_boxes(gt, new_pred, iou_threshold=0.5)\n",
    "\n",
    "print(mean_ap)"
   ]
  },
  {
   "cell_type": "code",
   "execution_count": null,
   "id": "7e9874e6",
   "metadata": {
    "id": "7e9874e6"
   },
   "outputs": [],
   "source": []
  }
 ],
 "metadata": {
  "colab": {
   "name": "metric_skeleton.ipynb",
   "provenance": []
  },
  "kernelspec": {
   "display_name": "Python 3 (ipykernel)",
   "language": "python",
   "name": "python3"
  },
  "language_info": {
   "codemirror_mode": {
    "name": "ipython",
    "version": 3
   },
   "file_extension": ".py",
   "mimetype": "text/x-python",
   "name": "python",
   "nbconvert_exporter": "python",
   "pygments_lexer": "ipython3",
   "version": "3.7.11"
  }
 },
 "nbformat": 4,
 "nbformat_minor": 5
}
