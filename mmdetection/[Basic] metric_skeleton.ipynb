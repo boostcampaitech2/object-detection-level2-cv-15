{
 "cells": [
  {
   "cell_type": "code",
   "execution_count": 1,
   "id": "2f5bc891",
   "metadata": {
    "id": "2f5bc891"
   },
   "outputs": [],
   "source": [
    "# !pip install map_boxes\n",
    "# !pip install tqdm\n",
    "# !pip install pycocotools"
   ]
  },
  {
   "cell_type": "code",
   "execution_count": 1,
   "id": "8377b5e0",
   "metadata": {
    "id": "8377b5e0"
   },
   "outputs": [],
   "source": [
    "from map_boxes import mean_average_precision_for_boxes\n",
    "import pandas as pd\n",
    "import numpy as np\n",
    "import json\n",
    "from tqdm import tqdm\n",
    "from pycocotools.coco import COCO"
   ]
  },
  {
   "cell_type": "code",
   "execution_count": 2,
   "id": "bb2a5373",
   "metadata": {
    "id": "bb2a5373"
   },
   "outputs": [],
   "source": [
    "GT_JSON = '../dataset/train.json'\n",
    "PRED_CSV = './work_dirs/inference/submission_epoch_30_train.csv'\n",
    "\n",
    "# load ground truth\n",
    "with open(GT_JSON, 'r') as outfile:\n",
    "    test_anno = (json.load(outfile))\n",
    "\n",
    "# load prediction\n",
    "pred_df = pd.read_csv(PRED_CSV)"
   ]
  },
  {
   "cell_type": "code",
   "execution_count": 3,
   "id": "52abebcc",
   "metadata": {
    "id": "52abebcc"
   },
   "outputs": [
    {
     "name": "stderr",
     "output_type": "stream",
     "text": [
      "4883it [00:00, 16660.73it/s]\n"
     ]
    }
   ],
   "source": [
    "'''\n",
    "[\n",
    "    [file_name 1, confidence_score, x_min, x_max, y_min, y_max], \n",
    "    [file_name 2 confidence_score, x_min, x_max, y_min, y_max],\n",
    "    ,,,\n",
    "    [file_name , confidence_score, x_min, x_max, y_min, y_max]\n",
    "]\n",
    "'''\n",
    "\n",
    "new_pred = []\n",
    "\n",
    "file_names = pred_df['image_id'].values.tolist()\n",
    "bboxes = pred_df['PredictionString'].values.tolist()\n",
    "\n",
    "'''\n",
    "TODO create new_pred\n",
    "'''\n",
    "for i, bbox in enumerate(bboxes):\n",
    "    if isinstance(bbox, float):\n",
    "        print(f'{file_names[i]} empty box')\n",
    "\n",
    "for file_name, bbox in tqdm(zip(file_names, bboxes)):\n",
    "    boxes = np.array(str(bbox).split(' '))\n",
    "    \n",
    "    if len(boxes) % 6 == 1:\n",
    "        boxes = boxes[:-1].reshape(-1, 6)\n",
    "    elif len(boxes) % 6 == 0:\n",
    "        boxes = boxes.reshape(-1, 6)\n",
    "    else:\n",
    "        raise Exception('error', 'invalid box count')\n",
    "    for box in boxes:\n",
    "        new_pred.append([file_name, box[0], box[1], float(box[2]), float(box[4]), float(box[3]), float(box[5])])"
   ]
  },
  {
   "cell_type": "code",
   "execution_count": 4,
   "id": "f5fa6ff0",
   "metadata": {
    "id": "f5fa6ff0"
   },
   "outputs": [
    {
     "name": "stdout",
     "output_type": "stream",
     "text": [
      "loading annotations into memory...\n",
      "Done (t=0.17s)\n",
      "creating index...\n",
      "index created!\n"
     ]
    }
   ],
   "source": [
    "'''\n",
    "[\n",
    "    [file_name 1, confidence_score, x_min, x_max, y_min, y_max], \n",
    "    [file_name 2, confidence_score, x_min, x_max, y_min, y_max],\n",
    "    ,,,\n",
    "    [file_name , confidence_score, x_min, x_max, y_min, y_max]\n",
    "]\n",
    "'''\n",
    "    \n",
    "gt = []\n",
    "    \n",
    "   \n",
    "'''\n",
    "coco.getImgIds(): return image id list\n",
    "    \n",
    "coco.loadImgs(image_id): return image_info\n",
    "    \n",
    "image_info['file_name']: return file name\n",
    "   \n",
    "coco.getAnnIds(imgIds=image_info['id']): return annotation id\n",
    "    \n",
    "coco.loadAnns(ann_ids): return annotation information list (annotation_info_list)\n",
    "    \n",
    "annotation_info_list[i]['bbox']: return i'th annotation [x_min, y_min, w, h]\n",
    "    \n",
    "annotation_info_list[i]['category_id']: return i'th annotation category\n",
    "    \n",
    "'''\n",
    "coco = COCO(GT_JSON)\n",
    "\n",
    "'''\n",
    "TODO create gt\n",
    "'''\n",
    "for image_id in coco.getImgIds():\n",
    "        \n",
    "    image_info = coco.loadImgs(image_id)[0]\n",
    "    annotation_id = coco.getAnnIds(imgIds=image_info['id'])\n",
    "    annotation_info_list = coco.loadAnns(annotation_id)\n",
    "        \n",
    "    file_name = image_info['file_name']\n",
    "        \n",
    "    for annotation in annotation_info_list:\n",
    "        gt.append([file_name, annotation['category_id'],\n",
    "                   float(annotation['bbox'][0]),\n",
    "                   float(annotation['bbox'][0]) + float(annotation['bbox'][2]),\n",
    "                   float(annotation['bbox'][1]),\n",
    "                   (float(annotation['bbox'][1]) + float(annotation['bbox'][3]))])"
   ]
  },
  {
   "cell_type": "code",
   "execution_count": 5,
   "id": "aad140ce-280a-43cd-b56c-83d858ac46d5",
   "metadata": {},
   "outputs": [
    {
     "name": "stdout",
     "output_type": "stream",
     "text": [
      "['train/0000.jpg', 0, 197.6, 745.4, 193.7, 663.4]\n",
      "['train/0001.jpg', 3, 0.0, 57.6, 407.4, 588.0]\n",
      "['train/0001.jpg', 7, 0.0, 144.6, 455.6, 637.2]\n",
      "['train/0001.jpg', 4, 722.3, 996.5999999999999, 313.4, 565.3]\n",
      "['train/0001.jpg', 5, 353.2, 586.9, 671.0, 774.4]\n",
      "['train/0001.jpg', 5, 3.7, 781.9000000000001, 448.5, 690.5]\n",
      "['train/0001.jpg', 0, 425.3, 641.7, 681.9, 861.7]\n",
      "['train/0001.jpg', 7, 92.4, 231.6, 601.7, 654.8000000000001]\n",
      "['train/0001.jpg', 0, 622.4, 695.1999999999999, 686.5, 780.7]\n",
      "['train/0002.jpg', 3, 267.9, 899.5, 165.2, 678.2]\n"
     ]
    }
   ],
   "source": [
    "num = 0\n",
    "for line in gt:\n",
    "    print(line)\n",
    "    num += 1\n",
    "    if num >= 10:\n",
    "        break"
   ]
  },
  {
   "cell_type": "code",
   "execution_count": 6,
   "id": "3a44cd12-81e0-4fe2-b3cb-234137c20975",
   "metadata": {},
   "outputs": [
    {
     "name": "stdout",
     "output_type": "stream",
     "text": [
      "49501\n",
      "['train/0000.jpg', '0', '0.9959073', 207.09311, 749.7527, 192.1886, 657.85]\n",
      "['train/0001.jpg', '0', '0.97439563', 620.128, 695.043, 691.4491, 781.6947]\n",
      "['train/0001.jpg', '0', '0.86287725', 428.9838, 633.8205, 677.60645, 860.97644]\n",
      "['train/0001.jpg', '0', '0.18492188', 0.0, 54.835068, 408.6211, 561.7027]\n",
      "['train/0001.jpg', '0', '0.12678233', 351.33984, 610.0973, 673.98615, 777.56586]\n",
      "['train/0001.jpg', '0', '0.06438675', 3.523552, 146.02695, 453.6726, 634.71655]\n",
      "['train/0001.jpg', '1', '0.20767808', 0.0, 55.241013, 409.4223, 561.2807]\n",
      "['train/0001.jpg', '3', '0.7670809', 0.0, 53.883133, 405.01367, 571.26324]\n",
      "['train/0001.jpg', '3', '0.08670276', 36.463104, 784.90674, 447.5912, 693.2169]\n",
      "['train/0001.jpg', '3', '0.07215279', 351.33984, 610.0973, 673.98615, 777.56586]\n",
      "['train/0001.jpg', '3', '0.05822541', 420.25903, 636.1166, 678.1609, 859.7113]\n",
      "['train/0001.jpg', '4', '0.99539703', 720.091, 1001.0174, 309.62024, 563.91]\n",
      "['train/0001.jpg', '4', '0.07495405', 59.826904, 780.2792, 449.40735, 692.48474]\n",
      "['train/0001.jpg', '4', '0.05796022', 0.0, 54.691887, 407.0475, 567.4865]\n",
      "['train/0001.jpg', '5', '0.92003965', 360.3919, 577.20447, 672.59076, 770.789]\n",
      "['train/0001.jpg', '5', '0.8022844', 56.31598, 772.6208, 448.3154, 692.38855]\n",
      "['train/0001.jpg', '5', '0.14221878', 3.607193, 148.14558, 451.003, 633.95404]\n",
      "['train/0001.jpg', '5', '0.13071714', 416.9582, 633.8465, 677.8118, 858.83563]\n",
      "['train/0001.jpg', '5', '0.071985155', 0.0, 54.691887, 407.0475, 567.4865]\n",
      "['train/0001.jpg', '5', '0.053893756', 35.11371, 1024.0, 444.72708, 995.9686]\n",
      "['train/0001.jpg', '7', '0.99773395', 92.59879, 231.89795, 600.5079, 655.3035]\n",
      "['train/0001.jpg', '7', '0.96930224', 4.095169, 148.1977, 450.70404, 633.70807]\n",
      "['train/0001.jpg', '7', '0.1058347', 0.0, 54.691887, 407.0475, 567.4865]\n",
      "['train/0001.jpg', '9', '0.47501945', 54.577087, 773.79865, 448.21777, 692.54114]\n",
      "['train/0001.jpg', '9', '0.0827473', 620.17566, 694.96606, 691.2873, 781.74335]\n",
      "['train/0001.jpg', '9', '0.072909854', 27.775116, 1007.77515, 531.5743, 1024.0]\n",
      "['train/0001.jpg', '9', '0.0648003', 0.0, 54.835068, 408.6211, 561.7027]\n",
      "['train/0002.jpg', '0', '0.0650265', 263.716, 907.45636, 153.21841, 675.07837]\n",
      "['train/0002.jpg', '2', '0.07060467', 262.68613, 903.76135, 157.58823, 675.28906]\n",
      "['train/0002.jpg', '3', '0.9929404', 262.77768, 903.6748, 158.41519, 675.1089]\n"
     ]
    }
   ],
   "source": [
    "num = 0\n",
    "print(len(new_pred))\n",
    "for line in new_pred:\n",
    "    print(line)\n",
    "    num += 1\n",
    "    if num >= 30:\n",
    "        break"
   ]
  },
  {
   "cell_type": "code",
   "execution_count": 7,
   "id": "8707b613",
   "metadata": {
    "id": "8707b613"
   },
   "outputs": [
    {
     "name": "stdout",
     "output_type": "stream",
     "text": [
      "Number of files in annotations: 4883\n",
      "Number of files in predictions: 4883\n",
      "Unique classes: 10\n",
      "Detections length: 4883\n",
      "Annotations length: 4883\n",
      "0                              | 0.849015 |    3966\n",
      "1                              | 0.849794 |    6352\n",
      "2                              | 0.910219 |     897\n",
      "3                              | 0.894965 |     936\n",
      "4                              | 0.929793 |     982\n",
      "5                              | 0.873637 |    2943\n",
      "6                              | 0.848518 |    1263\n",
      "7                              | 0.939080 |    5178\n",
      "8                              | 0.964436 |     159\n",
      "9                              | 0.905390 |     468\n",
      "mAP: 0.896485\n",
      "0.8964847566571128\n"
     ]
    }
   ],
   "source": [
    "'''\n",
    "calculate mAP\n",
    "'''\n",
    "\n",
    "'''\n",
    "Special mission you sould create mean_average_precision_for_boxes function, not library\n",
    "'''\n",
    "\n",
    "mean_ap, average_precisions = mean_average_precision_for_boxes(gt, new_pred, iou_threshold=0.5)\n",
    "\n",
    "print(mean_ap)"
   ]
  },
  {
   "cell_type": "code",
   "execution_count": null,
   "id": "7e9874e6",
   "metadata": {
    "id": "7e9874e6"
   },
   "outputs": [],
   "source": []
  }
 ],
 "metadata": {
  "colab": {
   "name": "metric_skeleton.ipynb",
   "provenance": []
  },
  "kernelspec": {
   "display_name": "Python 3 (ipykernel)",
   "language": "python",
   "name": "python3"
  },
  "language_info": {
   "codemirror_mode": {
    "name": "ipython",
    "version": 3
   },
   "file_extension": ".py",
   "mimetype": "text/x-python",
   "name": "python",
   "nbconvert_exporter": "python",
   "pygments_lexer": "ipython3",
   "version": "3.7.11"
  }
 },
 "nbformat": 4,
 "nbformat_minor": 5
}
