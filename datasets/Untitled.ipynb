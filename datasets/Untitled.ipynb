{
 "cells": [
  {
   "cell_type": "code",
   "execution_count": 6,
   "id": "5f2b3309-f5e8-4fec-9bcc-bfe5912191f7",
   "metadata": {},
   "outputs": [
    {
     "name": "stdout",
     "output_type": "stream",
     "text": [
      "dict_keys(['info', 'licenses', 'images', 'categories', 'annotations'])\n"
     ]
    }
   ],
   "source": [
    "#json 파일을 읽기 위한 라이브러리 입니다.\n",
    "import json\n",
    "target='train.json'\n",
    "#json 파일을 열어서 load 함수를 사용하여 python dict 처럼 접근할 수 있게 합니다.\n",
    "with open(target, 'r') as f:\n",
    "    json_datas = json.load(f)\n",
    "    print(json_datas.keys())"
   ]
  },
  {
   "cell_type": "code",
   "execution_count": 9,
   "id": "7656e4e3-7f15-4cd7-b936-ae96502bf9bd",
   "metadata": {},
   "outputs": [
    {
     "name": "stdout",
     "output_type": "stream",
     "text": [
      "23144\n",
      "         id       file_name  class      x      y      w      h       area\n",
      "0         0  train/0000.jpg      0  197.6  193.7  547.8  469.7  257301.66\n",
      "1         1  train/0001.jpg      3    0.0  407.4   57.6  180.6   10402.56\n",
      "2         1  train/0001.jpg      7    0.0  455.6  144.6  181.6   26259.36\n",
      "3         1  train/0001.jpg      4  722.3  313.4  274.3  251.9   69096.17\n",
      "4         1  train/0001.jpg      5  353.2  671.0  233.7  103.4   24164.58\n",
      "...     ...             ...    ...    ...    ...    ...    ...        ...\n",
      "23139  4882  train/4882.jpg      5    0.0  116.2  944.1  814.1  768591.81\n",
      "23140  4882  train/4882.jpg      7  302.1  439.3  265.2  216.1   57309.72\n",
      "23141  4882  train/4882.jpg      0  511.3  451.1   58.7   30.2    1772.74\n",
      "23142  4882  train/4882.jpg      1  255.0  421.4  271.7  195.1   53008.67\n",
      "23143  4882  train/4882.jpg      1  145.4  295.4  420.2  356.1  149633.22\n",
      "\n",
      "[23144 rows x 8 columns]\n"
     ]
    }
   ],
   "source": [
    "import json\n",
    "import pandas as pd\n",
    "from collections import defaultdict\n",
    "\n",
    "target = 'train.json'\n",
    "category = {}\n",
    "file_info = {}\n",
    "make_frame = defaultdict(list)\n",
    "\n",
    "# target 에 존재하는 train.json 파일을 엽니다.\n",
    "with open(target, 'r') as f:\n",
    "    json_datas = json.load(f) # python dict 처럼 접근하게끔 변환\n",
    "    #dict_keys(['info', 'licenses', 'images', 'categories', 'annotations'])\n",
    "\n",
    "\t# 이미지 정보 중 파일 경로와 아이디만 추출해서 file_info 에 저장\n",
    "    for item in json_datas['images']:\n",
    "        file_info[item['id']] = {'id' : item['id'], 'file_name' : item['file_name']}\n",
    "    # 카테고리 정보를 category 에 저장\n",
    "    for item in json_datas['categories']:\n",
    "        category[item['id']] = item['name']\n",
    "# annotations 에 속하는 아이템들을 images 에 속하는 아이템의 정보와 합치기 위함\n",
    "    for annotation in json_datas['annotations']:\n",
    "        save_dict = file_info[annotation['image_id']]\n",
    "\t\t# 각 이미지에 해당하는 bounding box 정보와 class 정보 area(넓이) 정보를 추가\n",
    "        save_dict.update({\n",
    "            'class':annotation['category_id'], \n",
    "            'x': annotation['bbox'][0],\n",
    "            'y': annotation['bbox'][1],\n",
    "            'w': annotation['bbox'][2],\n",
    "            'h': annotation['bbox'][3],\n",
    "            'area':annotation['area']\n",
    "            })\n",
    "\n",
    "        for k,v in save_dict.items():\n",
    "\t\t        # dataframe 으로 만들기 위해서 'key' : [item1,item2...] 형태로 저장\n",
    "            make_frame[k].append(v)\n",
    "\n",
    "\t\t# dictionary 가 잘 만들어 졌는지 길이를 측정해서 확인해보세요!\n",
    "    print(len(json_datas['annotations']))\n",
    "\t\t# dictionary to DataFrame\n",
    "    a = pd.DataFrame.from_dict(make_frame)\n",
    "\t\t# index 를 제외하고 csv 파일로 저장\n",
    "    a.to_csv('detection_info.csv',index=False)\n",
    "    print(a)"
   ]
  },
  {
   "cell_type": "code",
   "execution_count": null,
   "id": "6ef06955-6394-47a4-9540-e49f7a44fff8",
   "metadata": {},
   "outputs": [],
   "source": []
  }
 ],
 "metadata": {
  "kernelspec": {
   "display_name": "detection",
   "language": "python",
   "name": "detection"
  },
  "language_info": {
   "codemirror_mode": {
    "name": "ipython",
    "version": 3
   },
   "file_extension": ".py",
   "mimetype": "text/x-python",
   "name": "python",
   "nbconvert_exporter": "python",
   "pygments_lexer": "ipython3",
   "version": "3.7.11"
  }
 },
 "nbformat": 4,
 "nbformat_minor": 5
}
