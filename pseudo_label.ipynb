{
 "cells": [
  {
   "cell_type": "code",
   "execution_count": 1,
   "id": "8425d721",
   "metadata": {},
   "outputs": [],
   "source": [
    "#!pip install map_boxes\n",
    "#!pip install tqdm\n",
    "#!pip install pycocotools"
   ]
  },
  {
   "cell_type": "code",
   "execution_count": 2,
   "id": "b64e3bb0",
   "metadata": {},
   "outputs": [],
   "source": [
    "from map_boxes import mean_average_precision_for_boxes\n",
    "import pandas as pd\n",
    "import numpy as np\n",
    "import json\n",
    "from tqdm import tqdm\n",
    "from pycocotools.coco import COCO"
   ]
  },
  {
   "cell_type": "code",
   "execution_count": 3,
   "id": "83d36147",
   "metadata": {},
   "outputs": [],
   "source": [
    "def load_data():\n",
    "    TEST_JSON = './dataset/test.json'\n",
    "    TRAIN_JSON = './dataset/train.json'\n",
    "    PRED_CSV = './output_test.csv'\n",
    "\n",
    "    # load Test json\n",
    "    with open(TEST_JSON, 'r') as outfile:\n",
    "        test_json = (json.load(outfile))\n",
    "    # load Train json\n",
    "    with open(TRAIN_JSON, 'r') as outfile:\n",
    "        train_json = (json.load(outfile))\n",
    "\n",
    "    # load prediction\n",
    "    pred_df = pd.read_csv(PRED_CSV)\n",
    "    \n",
    "    return test_json, train_json, pred_df"
   ]
  },
  {
   "cell_type": "code",
   "execution_count": 10,
   "id": "f1867a28-d3ad-49cf-a4ef-7f4ff7b4d97a",
   "metadata": {},
   "outputs": [],
   "source": [
    "def create_json(filename, option):\n",
    "    # init json, csv\n",
    "    test_json, train_json, pred_df = load_data()\n",
    "    \n",
    "    result = {}\n",
    "\n",
    "    result['info'] = train_json['info']\n",
    "    result['licenses'] = train_json['licenses']\n",
    "    result['images'] = train_json['images']\n",
    "    \n",
    "    train_len = len(train_json['images'])\n",
    "    \n",
    "    # append test image & change test image id\n",
    "    for test_img in test_json['images']:\n",
    "        test_img['id'] += train_len\n",
    "        result['images'].append(test_img)\n",
    "    \n",
    "    result['categories'] = train_json['categories']\n",
    "    \n",
    "    templist = []\n",
    "    templist = train_json['annotations']\n",
    "    \n",
    "    bbox_id = len(train_json['annotations'])\n",
    "    for idx, item in enumerate(pred_df['PredictionString']):\n",
    "        # exception >> if item == nan\n",
    "        if type(item) != str:\n",
    "            continue\n",
    "            \n",
    "        for v in np.array(item.strip().split(' ')).reshape(-1,6):\n",
    "            # check category option\n",
    "            if int(v[0]) not in option:\n",
    "                continue\n",
    "            tempdict = {}\n",
    "            tempdict['image_id'] = idx + train_len\n",
    "            tempdict['category_id'] = int(v[0])\n",
    "            tempdict['area'] = float(v[4])*float(v[5])\n",
    "            tempdict['bbox'] = [float(v[2]),float(v[3]), float(v[4]),float(v[5])]\n",
    "            tempdict['iscrowd'] = 0\n",
    "            tempdict['id'] = bbox_id\n",
    "\n",
    "            templist.append(tempdict)\n",
    "            bbox_id = bbox_id+1\n",
    "            \n",
    "    result['annotations'] = templist\n",
    "\n",
    "    with open(f'./dataset/{filename}.json', 'w') as outfile:\n",
    "        json.dump(result, outfile)"
   ]
  },
  {
   "cell_type": "code",
   "execution_count": 11,
   "id": "fa12aa14-ea37-48be-a9c1-c70ff2a6b015",
   "metadata": {},
   "outputs": [],
   "source": [
    "# filename, option >> array for selecting categories ex) [1,6,7,8]\n",
    "create_json('pseudo_labeled', [0,1,2,3,4,5,6,7,8,9])"
   ]
  }
 ],
 "metadata": {
  "kernelspec": {
   "display_name": "Python 3 (ipykernel)",
   "language": "python",
   "name": "python3"
  },
  "language_info": {
   "codemirror_mode": {
    "name": "ipython",
    "version": 3
   },
   "file_extension": ".py",
   "mimetype": "text/x-python",
   "name": "python",
   "nbconvert_exporter": "python",
   "pygments_lexer": "ipython3",
   "version": "3.7.11"
  }
 },
 "nbformat": 4,
 "nbformat_minor": 5
}
