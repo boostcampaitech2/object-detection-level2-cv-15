{
 "cells": [
  {
   "cell_type": "code",
   "execution_count": 1,
   "id": "8425d721",
   "metadata": {},
   "outputs": [],
   "source": [
    "#!pip install map_boxes\n",
    "#!pip install tqdm\n",
    "#!pip install pycocotools"
   ]
  },
  {
   "cell_type": "code",
   "execution_count": 2,
   "id": "b64e3bb0",
   "metadata": {},
   "outputs": [],
   "source": [
    "from map_boxes import mean_average_precision_for_boxes\n",
    "import pandas as pd\n",
    "import numpy as np\n",
    "import json\n",
    "from tqdm import tqdm\n",
    "from pycocotools.coco import COCO"
   ]
  },
  {
   "cell_type": "code",
   "execution_count": 3,
   "id": "83d36147",
   "metadata": {},
   "outputs": [],
   "source": [
    "GT_JSON = 'detection/dataset/test.json'\n",
    "PRED_CSV = './output_test.csv'\n",
    "\n",
    "# load ground truth\n",
    "with open(GT_JSON, 'r') as outfile:\n",
    "    json_datas = (json.load(outfile))\n",
    "\n",
    "# load prediction\n",
    "pred_df = pd.read_csv(PRED_CSV)\n"
   ]
  },
  {
   "cell_type": "code",
   "execution_count": 35,
   "id": "18f05715-c9f1-41bd-9dc7-00d50ddb1beb",
   "metadata": {},
   "outputs": [
    {
     "name": "stdout",
     "output_type": "stream",
     "text": [
      "{11: {'image_id': 0, 'category_id': '1', 'area': '243670.61668776898', 'bbox': {0: '324.40402', 1: '569.0784', 2: '393.71457', 3: '618.9017'}, 'iscrowd': 0, 'id': 11}}\n"
     ]
    }
   ],
   "source": [
    "\n",
    "key = 0\n",
    "templist = [] #\n",
    "for idx, item in enumerate(pred_df['PredictionString']):\n",
    "    if type(item) == str :\n",
    "        for v in np.array(item.strip().split(' ')).reshape(-1,6):\n",
    "            tempdict = {}\n",
    "            tempdict['image_id'] = idx\n",
    "            tempdict['category_id'] = v[0]\n",
    "            tempdict['area'] = str(float(v[4])*float(v[5]))\n",
    "            tempdict['bbox'] = {0:v[2], 1:v[3], 2:v[4], 3:v[5]}\n",
    "            tempdict['iscrowd'] = 0\n",
    "            tempdict['id'] = key\n",
    "            \n",
    "            templist.append({key:tempdict})\n",
    "            key=key+1\n",
    "\n",
    "\n",
    "                    \n",
    "#np.array(pred_df['PredictionString'][1].strip().split(' ')).reshape(-1,6)[1]\n",
    "        \n",
    "#cate         score   bb\n",
    "#0         0.31056166 351.21313 228.14394 775.9386 706.2168 \n",
    "#1         0.05101532 353.09308 215.32005 769.51447 719.37555 \n",
    "#2         0.9990077614784241 347.39493 227.27557 782.5545 719.1181"
   ]
  },
  {
   "cell_type": "code",
   "execution_count": 55,
   "id": "f1867a28-d3ad-49cf-a4ef-7f4ff7b4d97a",
   "metadata": {},
   "outputs": [],
   "source": [
    "def create_json(filename, option):\n",
    "    result = {}\n",
    "\n",
    "    result['info'] = json_datas['info']\n",
    "    result['licenses'] = json_datas['licenses']\n",
    "    result['images'] = json_datas['images']\n",
    "    result['categories'] = json_datas['categories']\n",
    "    \n",
    "    templist = []\n",
    "    key=0\n",
    "    for idx, item in enumerate(pred_df['PredictionString']):\n",
    "        if type(item) == str:\n",
    "            for v in np.array(item.strip().split(' ')).reshape(-1,6):\n",
    "                if int(v[0]) not in option:\n",
    "                    continue\n",
    "                tempdict = {}\n",
    "                tempdict['image_id'] = idx\n",
    "                tempdict['category_id'] = int(v[0])\n",
    "                tempdict['area'] = float(v[4])*float(v[5])\n",
    "                tempdict['bbox'] = [float(v[2]),float(v[3]), float(v[4]),float(v[5])]\n",
    "                tempdict['iscrowd'] = 0\n",
    "                tempdict['id'] = key\n",
    "\n",
    "                templist.append(tempdict)\n",
    "                key=key+1\n",
    "    result['annotations'] = templist\n",
    "\n",
    "    with open(f'./detection/dataset/{filename}.json', 'w') as outfile:\n",
    "        json.dump(result, outfile)"
   ]
  },
  {
   "cell_type": "code",
   "execution_count": 59,
   "id": "fa12aa14-ea37-48be-a9c1-c70ff2a6b015",
   "metadata": {},
   "outputs": [],
   "source": [
    "create_json('pseudo1',[1])\n",
    "create_json('pseudo2',[2])"
   ]
  }
 ],
 "metadata": {
  "kernelspec": {
   "display_name": "Python 3 (ipykernel)",
   "language": "python",
   "name": "python3"
  },
  "language_info": {
   "codemirror_mode": {
    "name": "ipython",
    "version": 3
   },
   "file_extension": ".py",
   "mimetype": "text/x-python",
   "name": "python",
   "nbconvert_exporter": "python",
   "pygments_lexer": "ipython3",
   "version": "3.7.11"
  }
 },
 "nbformat": 4,
 "nbformat_minor": 5
}
